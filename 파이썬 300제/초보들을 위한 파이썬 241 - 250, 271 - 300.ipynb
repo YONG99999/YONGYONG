{
 "cells": [
  {
   "cell_type": "markdown",
   "id": "fd8989ce",
   "metadata": {},
   "source": [
    "# "
   ]
  },
  {
   "cell_type": "code",
   "execution_count": 1,
   "id": "567edd71",
   "metadata": {},
   "outputs": [
    {
     "name": "stdout",
     "output_type": "stream",
     "text": [
      "2023-12-11 22:47:37.296891\n"
     ]
    }
   ],
   "source": [
    "#241\n",
    "import datetime\n",
    "\n",
    "now = datetime.datetime.now()\n",
    "print(now)"
   ]
  },
  {
   "cell_type": "code",
   "execution_count": 2,
   "id": "7189ea7c",
   "metadata": {},
   "outputs": [
    {
     "name": "stdout",
     "output_type": "stream",
     "text": [
      "2023-12-11 22:47:52.422920 <class 'datetime.datetime'>\n"
     ]
    }
   ],
   "source": [
    "#243\n",
    "import datetime\n",
    "\n",
    "now = datetime.datetime.now()\n",
    "print(now, type(now))"
   ]
  },
  {
   "cell_type": "code",
   "execution_count": 3,
   "id": "7b7b99ef",
   "metadata": {},
   "outputs": [
    {
     "name": "stdout",
     "output_type": "stream",
     "text": [
      "22:48:03\n"
     ]
    }
   ],
   "source": [
    "#244\n",
    "import datetime\n",
    "\n",
    "now = datetime.datetime.now()\n",
    "print(now.strftime(\"%H:%M:%S\"))"
   ]
  },
  {
   "cell_type": "code",
   "execution_count": 4,
   "id": "b480ec2a",
   "metadata": {},
   "outputs": [
    {
     "name": "stdout",
     "output_type": "stream",
     "text": [
      "2020-05-04 00:00:00 <class 'datetime.datetime'>\n"
     ]
    }
   ],
   "source": [
    "#245\n",
    "import datetime\n",
    "\n",
    "day = \"2020-05-04\"\n",
    "ret = datetime.datetime.strptime(day, \"%Y-%m-%d\")\n",
    "print(ret, type(ret))"
   ]
  },
  {
   "cell_type": "code",
   "execution_count": 5,
   "id": "9ad1f9d0",
   "metadata": {},
   "outputs": [
    {
     "name": "stdout",
     "output_type": "stream",
     "text": [
      "2023-12-11 22:48:14.786946\n",
      "2023-12-11 22:48:15.787892\n",
      "2023-12-11 22:48:16.787996\n",
      "2023-12-11 22:48:17.788926\n",
      "2023-12-11 22:48:18.789129\n"
     ]
    },
    {
     "ename": "KeyboardInterrupt",
     "evalue": "",
     "output_type": "error",
     "traceback": [
      "\u001b[1;31m---------------------------------------------------------------------------\u001b[0m",
      "\u001b[1;31mKeyboardInterrupt\u001b[0m                         Traceback (most recent call last)",
      "Cell \u001b[1;32mIn[5], line 8\u001b[0m\n\u001b[0;32m      6\u001b[0m now \u001b[38;5;241m=\u001b[39m datetime\u001b[38;5;241m.\u001b[39mdatetime\u001b[38;5;241m.\u001b[39mnow()\n\u001b[0;32m      7\u001b[0m \u001b[38;5;28mprint\u001b[39m(now)\n\u001b[1;32m----> 8\u001b[0m time\u001b[38;5;241m.\u001b[39msleep(\u001b[38;5;241m1\u001b[39m)\n",
      "\u001b[1;31mKeyboardInterrupt\u001b[0m: "
     ]
    }
   ],
   "source": [
    "#246\n",
    "import time\n",
    "import datetime\n",
    "\n",
    "while True:\n",
    "    now = datetime.datetime.now()\n",
    "    print(now)\n",
    "    time.sleep(1)"
   ]
  },
  {
   "cell_type": "code",
   "execution_count": null,
   "id": "4c75861e",
   "metadata": {},
   "outputs": [],
   "source": [
    "#247\n",
    "#??? import....?"
   ]
  },
  {
   "cell_type": "code",
   "execution_count": 6,
   "id": "aa47ce61",
   "metadata": {},
   "outputs": [
    {
     "name": "stdout",
     "output_type": "stream",
     "text": [
      "C:\\workspace\\python\\YONGYONG <class 'str'>\n"
     ]
    }
   ],
   "source": [
    "#248\n",
    "import os\n",
    "ret = os.getcwd()\n",
    "print(ret, type(ret))"
   ]
  },
  {
   "cell_type": "code",
   "execution_count": 7,
   "id": "8758f914",
   "metadata": {},
   "outputs": [
    {
     "name": "stdout",
     "output_type": "stream",
     "text": [
      "0.0\n",
      "0.1\n",
      "0.2\n",
      "0.30000000000000004\n",
      "0.4\n",
      "0.5\n",
      "0.6000000000000001\n",
      "0.7000000000000001\n",
      "0.8\n",
      "0.9\n",
      "1.0\n",
      "1.1\n",
      "1.2000000000000002\n",
      "1.3\n",
      "1.4000000000000001\n",
      "1.5\n",
      "1.6\n",
      "1.7000000000000002\n",
      "1.8\n",
      "1.9000000000000001\n",
      "2.0\n",
      "2.1\n",
      "2.2\n",
      "2.3000000000000003\n",
      "2.4000000000000004\n",
      "2.5\n",
      "2.6\n",
      "2.7\n",
      "2.8000000000000003\n",
      "2.9000000000000004\n",
      "3.0\n",
      "3.1\n",
      "3.2\n",
      "3.3000000000000003\n",
      "3.4000000000000004\n",
      "3.5\n",
      "3.6\n",
      "3.7\n",
      "3.8000000000000003\n",
      "3.9000000000000004\n",
      "4.0\n",
      "4.1000000000000005\n",
      "4.2\n",
      "4.3\n",
      "4.4\n",
      "4.5\n",
      "4.6000000000000005\n",
      "4.7\n",
      "4.800000000000001\n",
      "4.9\n"
     ]
    }
   ],
   "source": [
    "E250\n",
    "import numpy\n",
    "for i in numpy.arange(0, 5, 0.1):\n",
    "    print(i)"
   ]
  },
  {
   "cell_type": "code",
   "execution_count": 8,
   "id": "b9e795c4",
   "metadata": {},
   "outputs": [
    {
     "name": "stdout",
     "output_type": "stream",
     "text": [
      "김민수\n",
      "100\n",
      "SC은행\n",
      "684-98-491748\n"
     ]
    }
   ],
   "source": [
    "#271\n",
    "import random\n",
    "\n",
    "class Account:\n",
    "    def __init__(self, name, balance):\n",
    "        self.name = name\n",
    "        self.balance = balance\n",
    "        self.bank = \"SC은행\"\n",
    "        num1 = random.randint(0, 999)\n",
    "        num2 = random.randint(0, 99)\n",
    "        num3 = random.randint(0, 999999)\n",
    "\n",
    "        num1 = str(num1).zfill(3)      # 1 -> '1' -> '001'\n",
    "        num2 = str(num2).zfill(2)      # 1 -> '1' -> '01'\n",
    "        num3 = str(num3).zfill(6)      # 1 -> '1' -> '0000001'\n",
    "        self.account_number = num1 + '-' + num2 + '-' + num3  # 001-01-000001\n",
    "\n",
    "kim = Account(\"김민수\", 100)\n",
    "print(kim.name)\n",
    "print(kim.balance)\n",
    "print(kim.bank)\n",
    "print(kim.account_number)"
   ]
  },
  {
   "cell_type": "code",
   "execution_count": 9,
   "id": "71f67289",
   "metadata": {},
   "outputs": [
    {
     "name": "stdout",
     "output_type": "stream",
     "text": [
      "1\n",
      "2\n"
     ]
    }
   ],
   "source": [
    "#272\n",
    "import random\n",
    "\n",
    "class Account:\n",
    "    # class variable\n",
    "    account_count = 0\n",
    "\n",
    "    def __init__(self, name, balance):\n",
    "        self.name = name\n",
    "        self.balance = balance\n",
    "        self.bank = \"SC은행\"\n",
    "\n",
    "        num1 = random.randint(0, 999)\n",
    "        num2 = random.randint(0, 99)\n",
    "        num3 = random.randint(0, 999999)\n",
    "\n",
    "        num1 = str(num1).zfill(3)      # 1 -> '1' -> '001'\n",
    "        num2 = str(num2).zfill(2)      # 1 -> '1' -> '01'\n",
    "        num3 = str(num3).zfill(6)      # 1 -> '1' -> '0000001'\n",
    "        self.account_number = num1 + '-' + num2 + '-' + num3  # 001-01-000001\n",
    "\n",
    "        Account.account_count += 1\n",
    "\n",
    "\n",
    "kim = Account(\"김민수\", 100)\n",
    "print(Account.account_count)\n",
    "lee = Account(\"이민수\", 100)\n",
    "print(Account.account_count)"
   ]
  },
  {
   "cell_type": "code",
   "execution_count": 10,
   "id": "7274748e",
   "metadata": {},
   "outputs": [
    {
     "name": "stdout",
     "output_type": "stream",
     "text": [
      "2\n"
     ]
    }
   ],
   "source": [
    "#273\n",
    "import random\n",
    "\n",
    "class Account:\n",
    "    # class variable\n",
    "    account_count = 0\n",
    "\n",
    "    def __init__(self, name, balance):\n",
    "        self.name = name\n",
    "        self.balance = balance\n",
    "        self.bank = \"SC은행\"\n",
    "\n",
    "        # 3-2-6\n",
    "        num1 = random.randint(0, 999)\n",
    "        num2 = random.randint(0, 99)\n",
    "        num3 = random.randint(0, 999999)\n",
    "\n",
    "        num1 = str(num1).zfill(3)      # 1 -> '1' -> '001'\n",
    "        num2 = str(num2).zfill(2)      # 1 -> '1' -> '01'\n",
    "        num3 = str(num3).zfill(6)      # 1 -> '1' -> '0000001'\n",
    "        self.account_number = num1 + '-' + num2 + '-' + num3  # 001-01-000001\n",
    "        Account.account_count +=1\n",
    "\n",
    "    @classmethod\n",
    "    def get_account_num(cls):\n",
    "        print(cls.account_count)     # Account.account_count\n",
    "\n",
    "\n",
    "kim = Account(\"김민수\", 100)\n",
    "lee = Account(\"이민수\", 100)\n",
    "kim.get_account_num()"
   ]
  },
  {
   "cell_type": "code",
   "execution_count": 11,
   "id": "caa7f397",
   "metadata": {},
   "outputs": [],
   "source": [
    "#274\n",
    "import random\n",
    "\n",
    "class Account:\n",
    "    # class variable\n",
    "    account_count = 0\n",
    "\n",
    "    def __init__(self, name, balance):\n",
    "        self.name = name\n",
    "        self.balance = balance\n",
    "        self.bank = \"SC은행\"\n",
    "\n",
    "        # 3-2-6\n",
    "        num1 = random.randint(0, 999)\n",
    "        num2 = random.randint(0, 99)\n",
    "        num3 = random.randint(0, 999999)\n",
    "\n",
    "        num1 = str(num1).zfill(3)      # 1 -> '1' -> '001'\n",
    "        num2 = str(num2).zfill(2)      # 1 -> '1' -> '01'\n",
    "        num3 = str(num3).zfill(6)      # 1 -> '1' -> '0000001'\n",
    "        self.account_number = num1 + '-' + num2 + '-' + num3  # 001-01-000001\n",
    "        Account.account_count +=1\n",
    "\n",
    "    @classmethod\n",
    "    def get_account_num(cls):\n",
    "        print(cls.account_count)     # Account.account_count\n",
    "\n",
    "    def deposit(self, amount):\n",
    "        if amount >= 1:\n",
    "            self.balance += amount"
   ]
  },
  {
   "cell_type": "code",
   "execution_count": 13,
   "id": "2a42633a",
   "metadata": {},
   "outputs": [
    {
     "name": "stdout",
     "output_type": "stream",
     "text": [
      "110\n"
     ]
    }
   ],
   "source": [
    "#275\n",
    "import random\n",
    "\n",
    "\n",
    "class Account:\n",
    "    # class variable\n",
    "    account_count = 0\n",
    "\n",
    "    def __init__(self, name, balance):\n",
    "        self.name = name\n",
    "        self.balance = balance\n",
    "        self.bank = \"SC은행\"\n",
    "\n",
    "        # 3-2-6\n",
    "        num1 = random.randint(0, 999)\n",
    "        num2 = random.randint(0, 99)\n",
    "        num3 = random.randint(0, 999999)\n",
    "\n",
    "        num1 = str(num1).zfill(3)  # 1 -> '1' -> '001'\n",
    "        num2 = str(num2).zfill(2)  # 1 -> '1' -> '01'\n",
    "        num3 = str(num3).zfill(6)  # 1 -> '1' -> '0000001'\n",
    "        self.account_number = num1 + '-' + num2 + '-' + num3  # 001-01-000001\n",
    "        Account.account_count += 1\n",
    "\n",
    "    @classmethod\n",
    "    def get_account_num(cls):\n",
    "        print(cls.account_count)  # Account.account_count\n",
    "\n",
    "    def deposit(self, amount):\n",
    "        if amount >= 1:\n",
    "            self.balance += amount\n",
    "\n",
    "    def withdraw(self, amount):\n",
    "        if self.balance > amount:\n",
    "            self.balance -= amount\n",
    "\n",
    "k = Account(\"kim\", 100)\n",
    "k.deposit(100)\n",
    "k.withdraw(90)\n",
    "print(k.balance)"
   ]
  },
  {
   "cell_type": "code",
   "execution_count": 14,
   "id": "df308d8d",
   "metadata": {},
   "outputs": [
    {
     "name": "stdout",
     "output_type": "stream",
     "text": [
      "은행이름:  SC은행\n",
      "예금주:  파이썬\n",
      "계좌번호:  644-14-886769\n",
      "잔고:  10,000\n"
     ]
    }
   ],
   "source": [
    "#276\n",
    "import random\n",
    "\n",
    "\n",
    "class Account:\n",
    "    # class variable\n",
    "    account_count = 0\n",
    "\n",
    "    def __init__(self, name, balance):\n",
    "        self.name = name\n",
    "        self.balance = balance\n",
    "        self.bank = \"SC은행\"\n",
    "\n",
    "        # 3-2-6\n",
    "        num1 = random.randint(0, 999)\n",
    "        num2 = random.randint(0, 99)\n",
    "        num3 = random.randint(0, 999999)\n",
    "\n",
    "        num1 = str(num1).zfill(3)  # 1 -> '1' -> '001'\n",
    "        num2 = str(num2).zfill(2)  # 1 -> '1' -> '01'\n",
    "        num3 = str(num3).zfill(6)  # 1 -> '1' -> '0000001'\n",
    "        self.account_number = num1 + '-' + num2 + '-' + num3  # 001-01-000001\n",
    "        Account.account_count += 1\n",
    "\n",
    "    @classmethod\n",
    "    def get_account_num(cls):\n",
    "        print(cls.account_count)  # Account.account_count\n",
    "\n",
    "    def deposit(self, amount):\n",
    "        if amount >= 1:\n",
    "            self.balance += amount\n",
    "\n",
    "    def withdraw(self, amount):\n",
    "        if self.balance > amount:\n",
    "            self.balance -= amount\n",
    "\n",
    "    def display_info(self):\n",
    "        print(\"은행이름: \", self.bank)\n",
    "        print(\"예금주: \", self.name)\n",
    "        print(\"계좌번호: \", self.account_number)\n",
    "        print(\"잔고: \", f\"{self.balance:,}\")\n",
    "\n",
    "\n",
    "p = Account(\"파이썬\", 10000)\n",
    "p.display_info()"
   ]
  },
  {
   "cell_type": "code",
   "execution_count": 16,
   "id": "1fff9b93",
   "metadata": {},
   "outputs": [
    {
     "name": "stdout",
     "output_type": "stream",
     "text": [
      "50500.0\n"
     ]
    }
   ],
   "source": [
    "#277\n",
    "import random\n",
    "\n",
    "\n",
    "class Account:\n",
    "    # class variable\n",
    "    account_count = 0\n",
    "\n",
    "    def __init__(self, name, balance):\n",
    "        self.deposit_count = 0\n",
    "\n",
    "        self.name = name\n",
    "        self.balance = balance\n",
    "        self.bank = \"SC은행\"\n",
    "\n",
    "        # 3-2-6\n",
    "        num1 = random.randint(0, 999)\n",
    "        num2 = random.randint(0, 99)\n",
    "        num3 = random.randint(0, 999999)\n",
    "\n",
    "        num1 = str(num1).zfill(3)  # 1 -> '1' -> '001'\n",
    "        num2 = str(num2).zfill(2)  # 1 -> '1' -> '01'\n",
    "        num3 = str(num3).zfill(6)  # 1 -> '1' -> '0000001'\n",
    "        self.account_number = num1 + '-' + num2 + '-' + num3  # 001-01-000001\n",
    "        Account.account_count += 1\n",
    "\n",
    "    @classmethod\n",
    "    def get_account_num(cls):\n",
    "        print(cls.account_count)  # Account.account_count\n",
    "\n",
    "    def deposit(self, amount):\n",
    "        if amount >= 1:\n",
    "            self.balance += amount\n",
    "\n",
    "            self.deposit_count += 1\n",
    "            if self.deposit_count % 5 == 0:         # 5, 10, 15\n",
    "                # 이자 지금\n",
    "                self.balance = (self.balance * 1.01)\n",
    "\n",
    "\n",
    "    def withdraw(self, amount):\n",
    "        if self.balance > amount:\n",
    "            self.balance -= amount\n",
    "\n",
    "    def display_info(self):\n",
    "        print(\"은행이름: \", self.bank)\n",
    "        print(\"예금주: \", self.name)\n",
    "        print(\"계좌번호: \", self.account_number)\n",
    "        print(\"잔고: \", self.balance)\n",
    "\n",
    "p = Account(\"파이썬\", 10000)\n",
    "p.deposit(10000)\n",
    "p.deposit(10000)\n",
    "p.deposit(10000)\n",
    "p.deposit(5000)\n",
    "p.deposit(5000)\n",
    "print(p.balance)"
   ]
  },
  {
   "cell_type": "code",
   "execution_count": 17,
   "id": "f0949852",
   "metadata": {},
   "outputs": [
    {
     "name": "stdout",
     "output_type": "stream",
     "text": [
      "[<__main__.Account object at 0x000001AF1B9807D0>, <__main__.Account object at 0x000001AF1C5A3D90>, <__main__.Account object at 0x000001AF1C449A50>]\n"
     ]
    }
   ],
   "source": [
    "#278\n",
    "import random\n",
    "\n",
    "\n",
    "class Account:\n",
    "    # class variable\n",
    "    account_count = 0\n",
    "\n",
    "    def __init__(self, name, balance):\n",
    "        self.deposit_count = 0\n",
    "\n",
    "        self.name = name\n",
    "        self.balance = balance\n",
    "        self.bank = \"SC은행\"\n",
    "\n",
    "        # 3-2-6\n",
    "        num1 = random.randint(0, 999)\n",
    "        num2 = random.randint(0, 99)\n",
    "        num3 = random.randint(0, 999999)\n",
    "\n",
    "        num1 = str(num1).zfill(3)  # 1 -> '1' -> '001'\n",
    "        num2 = str(num2).zfill(2)  # 1 -> '1' -> '01'\n",
    "        num3 = str(num3).zfill(6)  # 1 -> '1' -> '0000001'\n",
    "        self.account_number = num1 + '-' + num2 + '-' + num3  # 001-01-000001\n",
    "        Account.account_count += 1\n",
    "\n",
    "    @classmethod\n",
    "    def get_account_num(cls):\n",
    "        print(cls.account_count)  # Account.account_count\n",
    "\n",
    "    def deposit(self, amount):\n",
    "        if amount >= 1:\n",
    "            self.balance += amount\n",
    "\n",
    "            self.deposit_count += 1\n",
    "            if self.deposit_count % 5 == 0:         # 5, 10, 15\n",
    "                # 이자 지금\n",
    "                self.balance = (self.balance * 1.01)\n",
    "\n",
    "\n",
    "    def withdraw(self, amount):\n",
    "        if self.balance > amount:\n",
    "            self.balance -= amount\n",
    "\n",
    "    def display_info(self):\n",
    "        print(\"은행이름: \", self.bank)\n",
    "        print(\"예금주: \", self.name)\n",
    "        print(\"계좌번호: \", self.account_number)\n",
    "        print(\"잔고: \", self.balance)\n",
    "\n",
    "data = []\n",
    "k = Account(\"KIM\", 10000000)\n",
    "l = Account(\"LEE\", 10000)\n",
    "p = Account(\"PARK\", 10000)\n",
    "\n",
    "data.append(k)\n",
    "data.append(l)\n",
    "data.append(p)\n",
    "\n",
    "print(data)"
   ]
  },
  {
   "cell_type": "code",
   "execution_count": 19,
   "id": "042117fb",
   "metadata": {},
   "outputs": [
    {
     "name": "stdout",
     "output_type": "stream",
     "text": [
      "은행이름:  SC은행\n",
      "예금주:  KIM\n",
      "계좌번호:  093-98-805865\n",
      "잔고:  10000000\n"
     ]
    }
   ],
   "source": [
    "#279\n",
    "import random\n",
    "\n",
    "\n",
    "class Account:\n",
    "    # class variable\n",
    "    account_count = 0\n",
    "\n",
    "    def __init__(self, name, balance):\n",
    "        self.deposit_count = 0\n",
    "\n",
    "        self.name = name\n",
    "        self.balance = balance\n",
    "        self.bank = \"SC은행\"\n",
    "\n",
    "        # 3-2-6\n",
    "        num1 = random.randint(0, 999)\n",
    "        num2 = random.randint(0, 99)\n",
    "        num3 = random.randint(0, 999999)\n",
    "\n",
    "        num1 = str(num1).zfill(3)  # 1 -> '1' -> '001'\n",
    "        num2 = str(num2).zfill(2)  # 1 -> '1' -> '01'\n",
    "        num3 = str(num3).zfill(6)  # 1 -> '1' -> '0000001'\n",
    "        self.account_number = num1 + '-' + num2 + '-' + num3  # 001-01-000001\n",
    "        Account.account_count += 1\n",
    "\n",
    "    @classmethod\n",
    "    def get_account_num(cls):\n",
    "        print(cls.account_count)  # Account.account_count\n",
    "\n",
    "    def deposit(self, amount):\n",
    "        if amount >= 1:\n",
    "            self.balance += amount\n",
    "\n",
    "            self.deposit_count += 1\n",
    "            if self.deposit_count % 5 == 0:         # 5, 10, 15\n",
    "                # 이자 지금\n",
    "                self.balance = (self.balance * 1.01)\n",
    "\n",
    "\n",
    "    def withdraw(self, amount):\n",
    "        if self.balance > amount:\n",
    "            self.balance -= amount\n",
    "\n",
    "    def display_info(self):\n",
    "        print(\"은행이름: \", self.bank)\n",
    "        print(\"예금주: \", self.name)\n",
    "        print(\"계좌번호: \", self.account_number)\n",
    "        print(\"잔고: \", self.balance)\n",
    "\n",
    "data = []\n",
    "k = Account(\"KIM\", 10000000)\n",
    "l = Account(\"LEE\", 10000)\n",
    "p = Account(\"PARK\", 10000)\n",
    "data.append(k)\n",
    "data.append(l)\n",
    "data.append(p)\n",
    "\n",
    "for c in data:\n",
    "    if c.balance >= 1000000:\n",
    "        c.display_info()"
   ]
  },
  {
   "cell_type": "code",
   "execution_count": 21,
   "id": "5b2a64a9",
   "metadata": {},
   "outputs": [
    {
     "name": "stdout",
     "output_type": "stream",
     "text": [
      "100\n",
      "200\n",
      "300\n",
      "100\n",
      "200\n"
     ]
    }
   ],
   "source": [
    "#280\n",
    "import random\n",
    "\n",
    "\n",
    "class Account:\n",
    "    # class variable\n",
    "    account_count = 0\n",
    "\n",
    "    def __init__(self, name, balance):\n",
    "        self.deposit_count = 0\n",
    "        self.deposit_log = []\n",
    "        self.withdraw_log = []\n",
    "\n",
    "        self.name = name\n",
    "        self.balance = balance\n",
    "        self.bank = \"SC은행\"\n",
    "\n",
    "        # 3-2-6\n",
    "        num1 = random.randint(0, 999)\n",
    "        num2 = random.randint(0, 99)\n",
    "        num3 = random.randint(0, 999999)\n",
    "\n",
    "        num1 = str(num1).zfill(3)  # 1 -> '1' -> '001'\n",
    "        num2 = str(num2).zfill(2)  # 1 -> '1' -> '01'\n",
    "        num3 = str(num3).zfill(6)  # 1 -> '1' -> '0000001'\n",
    "        self.account_number = num1 + '-' + num2 + '-' + num3  # 001-01-000001\n",
    "        Account.account_count += 1\n",
    "\n",
    "    @classmethod\n",
    "    def get_account_num(cls):\n",
    "        print(cls.account_count)  # Account.account_count\n",
    "\n",
    "    def deposit(self, amount):\n",
    "        if amount >= 1:\n",
    "            self.deposit_log.append(amount)\n",
    "            self.balance += amount\n",
    "\n",
    "            self.deposit_count += 1\n",
    "            if self.deposit_count % 5 == 0:         # 5, 10, 15\n",
    "                # 이자 지금\n",
    "                self.balance = (self.balance * 1.01)\n",
    "\n",
    "\n",
    "    def withdraw(self, amount):\n",
    "        if self.balance > amount:\n",
    "            self.withdraw_log.append(amount)\n",
    "            self.balance -= amount\n",
    "\n",
    "    def display_info(self):\n",
    "        print(\"은행이름: \", self.bank)\n",
    "        print(\"예금주: \", self.name)\n",
    "        print(\"계좌번호: \", self.account_number)\n",
    "        print(\"잔고: \", self.balance)\n",
    "\n",
    "    def withdraw_history(self):\n",
    "        for amount in self.withdraw_log:\n",
    "            print(amount)\n",
    "\n",
    "    def deposit_history(self):\n",
    "        for amount in self.deposit_log:\n",
    "            print(amount)\n",
    "\n",
    "\n",
    "k = Account(\"Kim\", 1000)\n",
    "k.deposit(100)\n",
    "k.deposit(200)\n",
    "k.deposit(300)\n",
    "k.deposit_history()\n",
    "\n",
    "k.withdraw(100)\n",
    "k.withdraw(200)\n",
    "k.withdraw_history()"
   ]
  },
  {
   "cell_type": "code",
   "execution_count": 22,
   "id": "b3669ec3",
   "metadata": {},
   "outputs": [
    {
     "name": "stdout",
     "output_type": "stream",
     "text": [
      "2\n",
      "1000\n"
     ]
    }
   ],
   "source": [
    "#281\n",
    "class 차:\n",
    "    def __init__(self, 바퀴, 가격):\n",
    "        self.바퀴 = 바퀴\n",
    "        self.가격 = 가격\n",
    "\n",
    "\n",
    "car = 차(2, 1000)\n",
    "print(car.바퀴)\n",
    "print(car.가격)"
   ]
  },
  {
   "cell_type": "code",
   "execution_count": 23,
   "id": "a7ef94d9",
   "metadata": {},
   "outputs": [],
   "source": [
    "#282\n",
    "class 차:\n",
    "    def __init__(self, 바퀴, 가격):\n",
    "        self.바퀴 = 바퀴\n",
    "        self.가격 = 가격\n",
    "\n",
    "\n",
    "class 자전차(차):\n",
    "    pass"
   ]
  },
  {
   "cell_type": "code",
   "execution_count": 24,
   "id": "6b1e3b4d",
   "metadata": {},
   "outputs": [
    {
     "name": "stdout",
     "output_type": "stream",
     "text": [
      "100\n"
     ]
    }
   ],
   "source": [
    "#283\n",
    "class 차:\n",
    "    def __init__(self, 바퀴, 가격):\n",
    "        self.바퀴 = 바퀴\n",
    "        self.가격 = 가격\n",
    "\n",
    "\n",
    "class 자전차(차):\n",
    "    def __init__(self, 바퀴, 가격):\n",
    "        self.바퀴 = 바퀴\n",
    "        self.가격 = 가격\n",
    "\n",
    "\n",
    "bicycle = 자전차(2, 100)\n",
    "print(bicycle.가격)"
   ]
  },
  {
   "cell_type": "code",
   "execution_count": 25,
   "id": "af1b87fe",
   "metadata": {},
   "outputs": [
    {
     "name": "stdout",
     "output_type": "stream",
     "text": [
      "시마노\n",
      "2\n"
     ]
    }
   ],
   "source": [
    "#284\n",
    "class 차:\n",
    "    def __init__(self, 바퀴, 가격):\n",
    "        self.바퀴 = 바퀴\n",
    "        self.가격 = 가격\n",
    "\n",
    "\n",
    "class 자전차(차):\n",
    "    def __init__(self, 바퀴, 가격, 구동계):\n",
    "        super().__init__(바퀴, 가격)\n",
    "        #차.__init__(self, 바퀴, 가격)\n",
    "        self.구동계 = 구동계\n",
    "\n",
    "\n",
    "bicycle = 자전차(2, 100, \"시마노\")\n",
    "print(bicycle.구동계)\n",
    "print(bicycle.바퀴)"
   ]
  },
  {
   "cell_type": "code",
   "execution_count": 26,
   "id": "51ad7a45",
   "metadata": {},
   "outputs": [
    {
     "name": "stdout",
     "output_type": "stream",
     "text": [
      "바퀴수  4\n",
      "가격  1000\n"
     ]
    }
   ],
   "source": [
    "#285\n",
    "class 차:\n",
    "    def __init__(self, 바퀴, 가격):\n",
    "        self.바퀴 = 바퀴\n",
    "        self.가격 = 가격\n",
    "\n",
    "\n",
    "class 자동차(차):\n",
    "    def __init__(self, 바퀴, 가격):\n",
    "        super().__init__(바퀴, 가격)\n",
    "\n",
    "    def 정보(self):\n",
    "        print(\"바퀴수 \", self.바퀴)\n",
    "        print(\"가격 \", self.가격)\n",
    "\n",
    "\n",
    "car = 자동차(4, 1000)\n",
    "car.정보()"
   ]
  },
  {
   "cell_type": "code",
   "execution_count": 27,
   "id": "6b07ce1d",
   "metadata": {},
   "outputs": [
    {
     "name": "stdout",
     "output_type": "stream",
     "text": [
      "바퀴수  2\n",
      "가격  100\n"
     ]
    }
   ],
   "source": [
    "#286\n",
    "class 차:\n",
    "    def __init__(self, 바퀴, 가격):\n",
    "        self.바퀴 = 바퀴\n",
    "        self.가격 = 가격\n",
    "\n",
    "    def 정보(self):\n",
    "        print(\"바퀴수 \", self.바퀴)\n",
    "        print(\"가격 \", self.가격)\n",
    "\n",
    "class 자동차(차):\n",
    "    def __init__(self, 바퀴, 가격):\n",
    "        super().__init__(바퀴, 가격)\n",
    "\n",
    "class 자전차(차):\n",
    "    def __init__(self, 바퀴, 가격, 구동계):\n",
    "        super().__init__(바퀴, 가격)\n",
    "        self.구동계 = 구동계\n",
    "\n",
    "bicycle = 자전차(2, 100, \"시마노\")\n",
    "bicycle.정보()"
   ]
  },
  {
   "cell_type": "code",
   "execution_count": 28,
   "id": "dfb04e28",
   "metadata": {},
   "outputs": [
    {
     "name": "stdout",
     "output_type": "stream",
     "text": [
      "바퀴수  2\n",
      "가격  100\n",
      "구동계  시마노\n"
     ]
    }
   ],
   "source": [
    "#287\n",
    "class 차:\n",
    "    def __init__(self, 바퀴, 가격):\n",
    "        self.바퀴 = 바퀴\n",
    "        self.가격 = 가격\n",
    "\n",
    "    def 정보(self):\n",
    "        print(\"바퀴수 \", self.바퀴)\n",
    "        print(\"가격 \", self.가격)\n",
    "\n",
    "class 자동차(차):\n",
    "    def __init__(self, 바퀴, 가격):\n",
    "        super().__init__(바퀴, 가격)\n",
    "\n",
    "class 자전차(차):\n",
    "    def __init__(self, 바퀴, 가격, 구동계):\n",
    "        super().__init__(바퀴, 가격)\n",
    "        self.구동계 = 구동계\n",
    "\n",
    "    def 정보(self):\n",
    "        super().정보()\n",
    "        print(\"구동계 \", self.구동계)\n",
    "\n",
    "bicycle = 자전차(2, 100, \"시마노\")\n",
    "bicycle.정보()"
   ]
  },
  {
   "cell_type": "code",
   "execution_count": 30,
   "id": "8c3c84b8",
   "metadata": {},
   "outputs": [
    {
     "name": "stdout",
     "output_type": "stream",
     "text": [
      "자식호출\n"
     ]
    }
   ],
   "source": [
    "#288\n",
    "class 부모:\n",
    "    def 호출(self):\n",
    "        print(\"부모호출\")\n",
    "\n",
    "class 자식(부모):\n",
    "    def 호출(self):\n",
    "        print(\"자식호출\")\n",
    "\n",
    "\n",
    "나 = 자식()\n",
    "나.호출()"
   ]
  },
  {
   "cell_type": "code",
   "execution_count": 31,
   "id": "d7163964",
   "metadata": {},
   "outputs": [
    {
     "name": "stdout",
     "output_type": "stream",
     "text": [
      "자식생성\n"
     ]
    }
   ],
   "source": [
    "#289\n",
    "class 부모:\n",
    "    def __init__(self):\n",
    "        print(\"부모생성\")\n",
    "\n",
    "class 자식(부모):\n",
    "    def __init__(self):\n",
    "        print(\"자식생성\")\n",
    "\n",
    "나 = 자식()"
   ]
  },
  {
   "cell_type": "code",
   "execution_count": 32,
   "id": "e437d26e",
   "metadata": {},
   "outputs": [
    {
     "name": "stdout",
     "output_type": "stream",
     "text": [
      "자식생성\n",
      "부모생성\n"
     ]
    }
   ],
   "source": [
    "#290\n",
    "class 부모:\n",
    "    def __init__(self):\n",
    "        print(\"부모생성\")\n",
    "\n",
    "class 자식(부모):\n",
    "    def __init__(self):\n",
    "        print(\"자식생성\")\n",
    "        super().__init__()\n",
    "\n",
    "나 = 자식()"
   ]
  },
  {
   "cell_type": "code",
   "execution_count": null,
   "id": "71c1ea9b",
   "metadata": {},
   "outputs": [],
   "source": [
    "#291\n",
    "#f = open(\"C:/Users/www77/Desktop/매수종목1.txt\", mode=\"wt\", encoding=\"utf-8\")\n",
    "f.write(\"005930\\n\")\n",
    "f.write(\"005380\\n\")\n",
    "f.write(\"035420\")\n",
    "f.close()"
   ]
  },
  {
   "cell_type": "code",
   "execution_count": null,
   "id": "3bc47930",
   "metadata": {},
   "outputs": [],
   "source": [
    "#292\n",
    "#f = open(\"C:/Users/www77/Desktop/매수종목2.txt\", mode=\"wt\", encoding=\"utf-8\")\n",
    "f.write(\"005930 삼성전자\\n\")\n",
    "f.write(\"005380 현대차\\n\")\n",
    "f.write(\"035420 NAVER\\n\")\n",
    "f.close()"
   ]
  },
  {
   "cell_type": "code",
   "execution_count": null,
   "id": "c55ea303",
   "metadata": {},
   "outputs": [],
   "source": [
    "#293\n",
    "import csv\n",
    "\n",
    "#f = open(\"C:/Users/www77/Desktop/매수종목.csv\", mode=\"wt\", encoding=\"cp949\", newline='')\n",
    "writer = csv.writer(f)\n",
    "writer.writerow([\"종목명\", \"종목코드\", \"PER\"])\n",
    "writer.writerow([\"삼성전자\", \"005930\", 15.59])\n",
    "writer.writerow([\"NAVER\", \"035420\", 55.82])\n",
    "f.close()"
   ]
  },
  {
   "cell_type": "code",
   "execution_count": null,
   "id": "4a650777",
   "metadata": {},
   "outputs": [],
   "source": [
    "#294\n",
    "#f = open(\"C:/Users/www77/Desktop/매수종목1.txt\", encoding=\"utf-8\")\n",
    "lines = f.readlines()   # python list\n",
    "\n",
    "codes = []\n",
    "for line in lines:\n",
    "    code = line.strip()  #'\\n'\n",
    "    codes.append(code)\n",
    "\n",
    "print(codes)\n",
    "\n",
    "f.close()"
   ]
  },
  {
   "cell_type": "code",
   "execution_count": null,
   "id": "df8907d6",
   "metadata": {},
   "outputs": [],
   "source": [
    "#295\n",
    "#f = open(\"C:/Users/www77/Desktop/매수종목2.txt\", encoding=\"utf-8\")\n",
    "lines = f.readlines()\n",
    "\n",
    "data = {}\n",
    "for line in lines:\n",
    "    line = line.strip()     # '\\n' 제거\n",
    "    k, v = line.split()\n",
    "    #print(k, v)\n",
    "    data[k] = v\n",
    "\n",
    "print(data)\n",
    "f.close()"
   ]
  },
  {
   "cell_type": "code",
   "execution_count": 33,
   "id": "2a08215e",
   "metadata": {},
   "outputs": [
    {
     "name": "stdout",
     "output_type": "stream",
     "text": [
      "10.31\n",
      "0\n",
      "8.0\n"
     ]
    }
   ],
   "source": [
    "#296\n",
    "per = [\"10.31\", \"\", \"8.00\"]\n",
    "\n",
    "for i in per:\n",
    "    try:\n",
    "        print(float(i))\n",
    "    except:\n",
    "        print(0)"
   ]
  },
  {
   "cell_type": "code",
   "execution_count": 34,
   "id": "4f4f1fb4",
   "metadata": {},
   "outputs": [
    {
     "name": "stdout",
     "output_type": "stream",
     "text": [
      "[10.31, 0, 8.0]\n"
     ]
    }
   ],
   "source": [
    "#297\n",
    "per = [\"10.31\", \"\", \"8.00\"]\n",
    "new_per = []\n",
    "\n",
    "for i in per:\n",
    "    try:\n",
    "        v = float(i)\n",
    "    except:\n",
    "        v = 0\n",
    "    new_per.append(v)\n",
    "\n",
    "print(new_per)\n"
   ]
  },
  {
   "cell_type": "code",
   "execution_count": 35,
   "id": "63ac7dba",
   "metadata": {},
   "outputs": [
    {
     "name": "stdout",
     "output_type": "stream",
     "text": [
      "0으로 나누면 안되요\n"
     ]
    }
   ],
   "source": [
    "#298\n",
    "try:\n",
    "    b = 3 / 0\n",
    "except ZeroDivisionError:\n",
    "    print(\"0으로 나누면 안되요\")"
   ]
  },
  {
   "cell_type": "code",
   "execution_count": 36,
   "id": "b7698135",
   "metadata": {},
   "outputs": [
    {
     "name": "stdout",
     "output_type": "stream",
     "text": [
      "1\n",
      "2\n",
      "3\n",
      "list index out of range\n",
      "list index out of range\n"
     ]
    }
   ],
   "source": [
    "#299\n",
    "data = [1, 2, 3]\n",
    "\n",
    "for i in range(5):\n",
    "    try:\n",
    "        print(data[i])\n",
    "    except IndexError as e:\n",
    "        print(e)"
   ]
  },
  {
   "cell_type": "code",
   "execution_count": 37,
   "id": "1d8001ba",
   "metadata": {},
   "outputs": [
    {
     "name": "stdout",
     "output_type": "stream",
     "text": [
      "10.31\n",
      "clean data\n",
      "변환 완료\n",
      "0\n",
      "변환 완료\n",
      "8.0\n",
      "clean data\n",
      "변환 완료\n"
     ]
    }
   ],
   "source": [
    "#300\n",
    "per = [\"10.31\", \"\", \"8.00\"]\n",
    "\n",
    "for i in per:\n",
    "    try:\n",
    "        print(float(i))\n",
    "    except:\n",
    "        print(0)\n",
    "    else:\n",
    "        print(\"clean data\")\n",
    "    finally:\n",
    "        print(\"변환 완료\")"
   ]
  },
  {
   "cell_type": "markdown",
   "id": "fa029505",
   "metadata": {},
   "source": [
    "### 내가 이겼다 파이썬 "
   ]
  },
  {
   "cell_type": "code",
   "execution_count": null,
   "id": "cee8a95c",
   "metadata": {},
   "outputs": [],
   "source": []
  },
  {
   "cell_type": "code",
   "execution_count": null,
   "id": "6cdca7c0",
   "metadata": {},
   "outputs": [],
   "source": []
  },
  {
   "cell_type": "code",
   "execution_count": null,
   "id": "86753f06",
   "metadata": {},
   "outputs": [],
   "source": []
  },
  {
   "cell_type": "code",
   "execution_count": null,
   "id": "48dfb1da",
   "metadata": {},
   "outputs": [],
   "source": []
  },
  {
   "cell_type": "code",
   "execution_count": null,
   "id": "2e013a4f",
   "metadata": {},
   "outputs": [],
   "source": []
  }
 ],
 "metadata": {
  "kernelspec": {
   "display_name": "Python 3 (ipykernel)",
   "language": "python",
   "name": "python3"
  },
  "language_info": {
   "codemirror_mode": {
    "name": "ipython",
    "version": 3
   },
   "file_extension": ".py",
   "mimetype": "text/x-python",
   "name": "python",
   "nbconvert_exporter": "python",
   "pygments_lexer": "ipython3",
   "version": "3.11.5"
  },
  "toc": {
   "base_numbering": 1,
   "nav_menu": {},
   "number_sections": true,
   "sideBar": true,
   "skip_h1_title": false,
   "title_cell": "Table of Contents",
   "title_sidebar": "Contents",
   "toc_cell": false,
   "toc_position": {},
   "toc_section_display": true,
   "toc_window_display": false
  }
 },
 "nbformat": 4,
 "nbformat_minor": 5
}
