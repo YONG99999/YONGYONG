{
 "cells": [
  {
   "cell_type": "markdown",
   "metadata": {},
   "source": [
    "# 전화번호 프로그램 만들기\n",
    "\n",
    "* 홍길동 010-123-4567\n",
    "* 기능1 : 연락처 추가\n",
    "* 기능2 : 연락처 전체 보기\n",
    "* 기능3 : 검색, 이름을 입력받아서 전화번호 조회\n",
    "* 기능4 : 수정, 이름을 입력받아서 전화번호 입력수정\n",
    "* 기능5 : 삭제, 이름 입력받아서 삭제\n",
    "* 기능6 : 프로그램 종료\n",
    "\n"
   ]
  },
  {
   "cell_type": "markdown",
   "metadata": {},
   "source": [
    "## 요구사항 분석 및 설계\n",
    "- 홍길동, 010-123-4567 - > 이름과 전화번호 딕셔너리 key : value\n",
    "- input을 받아야 한다. str\n",
    "* 프로그램 : while (계속해서 돌아가야 함)\n",
    "- 기능 1~5번 : if 분기문, 숫자를 입력했을 때 해당 기능이 동작\n",
    "- 기능 1번 (연락처 추가) : dict 추가, dict[key]=value\n",
    "- 기능 2번(전체보기) : for문 출력\n",
    "- 기능 3번(조회) : 이름 입력 > 전화번호 출력, dict[key]=value\n",
    "- 기능 4번(수정) : dict[key]=value\n",
    "- 기능 5번(삭제) : del\n",
    "- 기능 6번(종료) : break\n"
   ]
  },
  {
   "cell_type": "code",
   "execution_count": null,
   "metadata": {},
   "outputs": [],
   "source": []
  },
  {
   "cell_type": "code",
   "execution_count": 6,
   "metadata": {},
   "outputs": [
    {
     "name": "stdout",
     "output_type": "stream",
     "text": [
      "\n",
      " 전화번호 프로그램\n",
      "1. 연락처 추가\n",
      "2. 연락처 전체보기\n",
      "3. 번호 검색 및 조회\n",
      "4. 번호 수정\n",
      "5. 번호 삭제\n",
      "6. 프로그램 종료\n",
      "메뉴 선택1\n",
      "연락처 추가 작업 실행\n",
      "이름김용규\n",
      "전화번호010-5552-5084\n",
      "\n",
      " 전화번호 프로그램\n",
      "1. 연락처 추가\n",
      "2. 연락처 전체보기\n",
      "3. 번호 검색 및 조회\n",
      "4. 번호 수정\n",
      "5. 번호 삭제\n",
      "6. 프로그램 종료\n",
      "메뉴 선택3\n",
      "연락처 검색 작업 실행\n",
      "검색 이름기묭규\n",
      "없는 연락처 입니다.\n",
      "\n",
      " 전화번호 프로그램\n",
      "1. 연락처 추가\n",
      "2. 연락처 전체보기\n",
      "3. 번호 검색 및 조회\n",
      "4. 번호 수정\n",
      "5. 번호 삭제\n",
      "6. 프로그램 종료\n",
      "메뉴 선택3\n",
      "연락처 검색 작업 실행\n",
      "검색 이름김용규\n",
      "010-5552-5084\n",
      "\n",
      " 전화번호 프로그램\n",
      "1. 연락처 추가\n",
      "2. 연락처 전체보기\n",
      "3. 번호 검색 및 조회\n",
      "4. 번호 수정\n",
      "5. 번호 삭제\n",
      "6. 프로그램 종료\n",
      "메뉴 선택6\n",
      "6. 프로그램 종료\n"
     ]
    }
   ],
   "source": [
    "contact = {}\n",
    "\n",
    "while True:\n",
    "    print(\"\\n 전화번호 프로그램\")\n",
    "    print(\"1. 연락처 추가\")\n",
    "    print(\"2. 연락처 전체보기\")\n",
    "    print(\"3. 번호 검색 및 조회\")\n",
    "    print(\"4. 번호 수정\")\n",
    "    print(\"5. 번호 삭제\")\n",
    "    print(\"6. 프로그램 종료\")\n",
    "    \n",
    "    menu = int(input('메뉴 선택'))\n",
    "    if menu == 1:\n",
    "        print('연락처 추가 작업 실행')\n",
    "        new_name = input('이름')\n",
    "        new_number = input('전화번호')\n",
    "        contact.setdefault(new_name, new_number)\n",
    "    \n",
    "    elif menu == 2:\n",
    "        print('연락처 보기 작업 실행')\n",
    "        for name, tel in contact.items():\n",
    "            print(name, \":\", tel)\n",
    "    \n",
    "    elif menu == 3:\n",
    "        print('연락처 검색 작업 실행')\n",
    "        search_name = input('검색 이름')\n",
    "        print(contact.get(search_name, '없는 연락처 입니다.'))\n",
    "    \n",
    "    elif menu == 4:\n",
    "        print('연락처 수정 작업 실행')\n",
    "        mod_name = input('수정 이름')\n",
    "        if mod_name in contact:\n",
    "            mod_number = input('새전화번호 입력: ')\n",
    "            contact[mod_name] = mod_number\n",
    "        else :\n",
    "            print('등록되지 않은 이름입니다.')\n",
    "    \n",
    "    elif menu == 5:\n",
    "        print('연락처 삭제 작업 실행')\n",
    "        del_name = input('삭제 이름: ')\n",
    "        #만약에 연락처 저장소에 삭제 이름이 존재하면, 저장소에서 삭제\n",
    "        if del_name in contact:\n",
    "            del contact[del_name]\n",
    "        else : \n",
    "            print('등록되지 않은 이름입니다.')\n",
    "    \n",
    "    elif menu == 6:\n",
    "        print(\"6. 프로그램 종료\")\n",
    "        \n",
    "        break\n",
    "        \n",
    "    else :\n",
    "        print('잘못된 메뉴 입니다.')"
   ]
  }
 ],
 "metadata": {
  "kernelspec": {
   "display_name": "Python 3 (ipykernel)",
   "language": "python",
   "name": "python3"
  },
  "language_info": {
   "codemirror_mode": {
    "name": "ipython",
    "version": 3
   },
   "file_extension": ".py",
   "mimetype": "text/x-python",
   "name": "python",
   "nbconvert_exporter": "python",
   "pygments_lexer": "ipython3",
   "version": "3.11.5"
  },
  "toc": {
   "base_numbering": 1,
   "nav_menu": {},
   "number_sections": true,
   "sideBar": true,
   "skip_h1_title": false,
   "title_cell": "Table of Contents",
   "title_sidebar": "Contents",
   "toc_cell": false,
   "toc_position": {},
   "toc_section_display": true,
   "toc_window_display": false
  },
  "varInspector": {
   "cols": {
    "lenName": 16,
    "lenType": 16,
    "lenVar": 40
   },
   "kernels_config": {
    "python": {
     "delete_cmd_postfix": "",
     "delete_cmd_prefix": "del ",
     "library": "var_list.py",
     "varRefreshCmd": "print(var_dic_list())"
    },
    "r": {
     "delete_cmd_postfix": ") ",
     "delete_cmd_prefix": "rm(",
     "library": "var_list.r",
     "varRefreshCmd": "cat(var_dic_list()) "
    }
   },
   "types_to_exclude": [
    "module",
    "function",
    "builtin_function_or_method",
    "instance",
    "_Feature"
   ],
   "window_display": false
  }
 },
 "nbformat": 4,
 "nbformat_minor": 2
}
