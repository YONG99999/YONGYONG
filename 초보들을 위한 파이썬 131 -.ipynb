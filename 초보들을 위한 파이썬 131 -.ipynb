{
 "cells": [
  {
   "cell_type": "markdown",
   "id": "f0b6d881",
   "metadata": {},
   "source": [
    "## 파이썬 반복문"
   ]
  },
  {
   "cell_type": "code",
   "execution_count": 1,
   "id": "6f964f60",
   "metadata": {},
   "outputs": [
    {
     "name": "stdout",
     "output_type": "stream",
     "text": [
      "사과\n",
      "귤\n",
      "수박\n"
     ]
    }
   ],
   "source": [
    "과일 = [\"사과\", \"귤\", \"수박\"]\n",
    "for 변수 in 과일:\n",
    "    print(변수)"
   ]
  },
  {
   "cell_type": "code",
   "execution_count": 2,
   "id": "e8d9c2e8",
   "metadata": {},
   "outputs": [
    {
     "name": "stdout",
     "output_type": "stream",
     "text": [
      "#####\n",
      "#####\n",
      "#####\n"
     ]
    }
   ],
   "source": [
    "과일 = [\"사과\", \"귤\", \"수박\"]\n",
    "for 변수 in 과일:\n",
    "  print(\"#####\")"
   ]
  },
  {
   "cell_type": "code",
   "execution_count": 3,
   "id": "31b3a4ae",
   "metadata": {},
   "outputs": [
    {
     "name": "stdout",
     "output_type": "stream",
     "text": [
      "A\n",
      "B\n",
      "C\n"
     ]
    }
   ],
   "source": [
    "print(\"A\")\n",
    "print(\"B\")\n",
    "print(\"C\")"
   ]
  },
  {
   "cell_type": "code",
   "execution_count": 4,
   "id": "1d098709",
   "metadata": {},
   "outputs": [
    {
     "name": "stdout",
     "output_type": "stream",
     "text": [
      "출력: A\n",
      "출력: B\n",
      "출력: C\n"
     ]
    }
   ],
   "source": [
    "변수 = \"A\"\n",
    "print(\"출력:\", 변수)\n",
    "변수 = \"B\"\n",
    "print(\"출력:\", 변수)\n",
    "변수 = \"C\"\n",
    "print(\"출력:\", 변수)"
   ]
  },
  {
   "cell_type": "code",
   "execution_count": 5,
   "id": "a605f8b2",
   "metadata": {},
   "outputs": [
    {
     "name": "stdout",
     "output_type": "stream",
     "text": [
      "출력: A\n",
      "출력: B\n",
      "출력: C\n"
     ]
    }
   ],
   "source": [
    "print(\"출력:\", \"A\")\n",
    "print(\"출력:\", \"B\")\n",
    "print(\"출력:\", \"C\")"
   ]
  },
  {
   "cell_type": "code",
   "execution_count": 6,
   "id": "46cb7108",
   "metadata": {},
   "outputs": [
    {
     "name": "stdout",
     "output_type": "stream",
     "text": [
      "변환: a\n",
      "변환: b\n",
      "변환: c\n"
     ]
    }
   ],
   "source": [
    "변수 = \"A\"\n",
    "b = 변수.lower()\n",
    "print(\"변환:\", b) #라인1\n",
    "변수 = \"B\"\n",
    "b = 변수.lower()\n",
    "print(\"변환:\", b) #라인2\n",
    "변수 = \"C\"\n",
    "b = 변수.lower()\n",
    "print(\"변환:\", b)"
   ]
  },
  {
   "cell_type": "code",
   "execution_count": 7,
   "id": "9ff614c4",
   "metadata": {},
   "outputs": [
    {
     "name": "stdout",
     "output_type": "stream",
     "text": [
      "10\n",
      "20\n",
      "30\n"
     ]
    }
   ],
   "source": [
    "for 변수 in [10, 20, 30]:\n",
    "  print(변수)"
   ]
  },
  {
   "cell_type": "code",
   "execution_count": 8,
   "id": "504123e0",
   "metadata": {},
   "outputs": [
    {
     "name": "stdout",
     "output_type": "stream",
     "text": [
      "10\n",
      "20\n",
      "30\n"
     ]
    }
   ],
   "source": [
    "for 변수 in [10, 20, 30]:\n",
    "  print(변수)"
   ]
  },
  {
   "cell_type": "code",
   "execution_count": 9,
   "id": "654377cc",
   "metadata": {},
   "outputs": [
    {
     "name": "stdout",
     "output_type": "stream",
     "text": [
      "10\n",
      "-------\n",
      "20\n",
      "-------\n",
      "30\n",
      "-------\n"
     ]
    }
   ],
   "source": [
    "for 변수 in [10, 20, 30]:\n",
    "  print(변수)\n",
    "  print(\"-------\")"
   ]
  },
  {
   "cell_type": "code",
   "execution_count": 10,
   "id": "d113b01e",
   "metadata": {},
   "outputs": [
    {
     "name": "stdout",
     "output_type": "stream",
     "text": [
      "++++\n",
      "10\n",
      "20\n",
      "30\n"
     ]
    }
   ],
   "source": [
    "print(\"++++\")\n",
    "for 변수 in [10, 20, 30]:\n",
    "  print(변수)"
   ]
  },
  {
   "cell_type": "code",
   "execution_count": 11,
   "id": "ed3f6d1c",
   "metadata": {},
   "outputs": [
    {
     "name": "stdout",
     "output_type": "stream",
     "text": [
      "-------\n",
      "-------\n",
      "-------\n",
      "-------\n"
     ]
    }
   ],
   "source": [
    "for 변수 in [1, 2, 3, 4]: #어떤 데이터가 들어가도 상관없나..? \n",
    "  print(\"-------\")"
   ]
  },
  {
   "cell_type": "code",
   "execution_count": null,
   "id": "daaa74d4",
   "metadata": {},
   "outputs": [],
   "source": [
    "## 130~140번까지 /평일 하루 10문제라도 \"풀이 최대한 안보고\" 풀어보기 "
   ]
  },
  {
   "cell_type": "code",
   "execution_count": null,
   "id": "8707b7fd",
   "metadata": {},
   "outputs": [],
   "source": []
  },
  {
   "cell_type": "code",
   "execution_count": null,
   "id": "7cc4f796",
   "metadata": {},
   "outputs": [],
   "source": []
  },
  {
   "cell_type": "code",
   "execution_count": null,
   "id": "78d3a677",
   "metadata": {},
   "outputs": [],
   "source": []
  },
  {
   "cell_type": "code",
   "execution_count": null,
   "id": "bf3d6aea",
   "metadata": {},
   "outputs": [],
   "source": []
  },
  {
   "cell_type": "code",
   "execution_count": null,
   "id": "a1fb3128",
   "metadata": {},
   "outputs": [],
   "source": []
  },
  {
   "cell_type": "code",
   "execution_count": null,
   "id": "58775ff0",
   "metadata": {},
   "outputs": [],
   "source": []
  },
  {
   "cell_type": "code",
   "execution_count": null,
   "id": "c49abb12",
   "metadata": {},
   "outputs": [],
   "source": []
  },
  {
   "cell_type": "code",
   "execution_count": null,
   "id": "6a13d407",
   "metadata": {},
   "outputs": [],
   "source": []
  },
  {
   "cell_type": "code",
   "execution_count": null,
   "id": "707a4d96",
   "metadata": {},
   "outputs": [],
   "source": []
  },
  {
   "cell_type": "code",
   "execution_count": null,
   "id": "e7fbf235",
   "metadata": {},
   "outputs": [],
   "source": []
  },
  {
   "cell_type": "code",
   "execution_count": null,
   "id": "520413ab",
   "metadata": {},
   "outputs": [],
   "source": []
  },
  {
   "cell_type": "code",
   "execution_count": null,
   "id": "5634fcb8",
   "metadata": {},
   "outputs": [],
   "source": []
  },
  {
   "cell_type": "code",
   "execution_count": null,
   "id": "fb1d4c10",
   "metadata": {},
   "outputs": [],
   "source": []
  },
  {
   "cell_type": "code",
   "execution_count": null,
   "id": "c2d17bbc",
   "metadata": {},
   "outputs": [],
   "source": []
  },
  {
   "cell_type": "code",
   "execution_count": null,
   "id": "b4a43721",
   "metadata": {},
   "outputs": [],
   "source": []
  },
  {
   "cell_type": "code",
   "execution_count": null,
   "id": "339d0908",
   "metadata": {},
   "outputs": [],
   "source": []
  },
  {
   "cell_type": "code",
   "execution_count": null,
   "id": "1d724add",
   "metadata": {},
   "outputs": [],
   "source": []
  },
  {
   "cell_type": "code",
   "execution_count": null,
   "id": "30d88e91",
   "metadata": {},
   "outputs": [],
   "source": []
  },
  {
   "cell_type": "code",
   "execution_count": null,
   "id": "a007022b",
   "metadata": {},
   "outputs": [],
   "source": []
  },
  {
   "cell_type": "code",
   "execution_count": null,
   "id": "fa83b11c",
   "metadata": {},
   "outputs": [],
   "source": []
  },
  {
   "cell_type": "code",
   "execution_count": null,
   "id": "aa3b3572",
   "metadata": {},
   "outputs": [],
   "source": []
  },
  {
   "cell_type": "code",
   "execution_count": null,
   "id": "1da02263",
   "metadata": {},
   "outputs": [],
   "source": []
  },
  {
   "cell_type": "code",
   "execution_count": null,
   "id": "51983791",
   "metadata": {},
   "outputs": [],
   "source": []
  },
  {
   "cell_type": "code",
   "execution_count": null,
   "id": "d87d2180",
   "metadata": {},
   "outputs": [],
   "source": []
  },
  {
   "cell_type": "code",
   "execution_count": null,
   "id": "a371aaf5",
   "metadata": {},
   "outputs": [],
   "source": []
  },
  {
   "cell_type": "code",
   "execution_count": null,
   "id": "2b532580",
   "metadata": {},
   "outputs": [],
   "source": []
  },
  {
   "cell_type": "code",
   "execution_count": null,
   "id": "7d7a9757",
   "metadata": {},
   "outputs": [],
   "source": []
  },
  {
   "cell_type": "code",
   "execution_count": null,
   "id": "a9634f13",
   "metadata": {},
   "outputs": [],
   "source": []
  },
  {
   "cell_type": "code",
   "execution_count": null,
   "id": "80f12ee8",
   "metadata": {},
   "outputs": [],
   "source": []
  },
  {
   "cell_type": "code",
   "execution_count": null,
   "id": "6624ce73",
   "metadata": {},
   "outputs": [],
   "source": []
  },
  {
   "cell_type": "code",
   "execution_count": null,
   "id": "73638359",
   "metadata": {},
   "outputs": [],
   "source": []
  }
 ],
 "metadata": {
  "kernelspec": {
   "display_name": "Python 3 (ipykernel)",
   "language": "python",
   "name": "python3"
  },
  "language_info": {
   "codemirror_mode": {
    "name": "ipython",
    "version": 3
   },
   "file_extension": ".py",
   "mimetype": "text/x-python",
   "name": "python",
   "nbconvert_exporter": "python",
   "pygments_lexer": "ipython3",
   "version": "3.11.5"
  },
  "toc": {
   "base_numbering": 1,
   "nav_menu": {},
   "number_sections": true,
   "sideBar": true,
   "skip_h1_title": false,
   "title_cell": "Table of Contents",
   "title_sidebar": "Contents",
   "toc_cell": false,
   "toc_position": {},
   "toc_section_display": true,
   "toc_window_display": false
  }
 },
 "nbformat": 4,
 "nbformat_minor": 5
}
