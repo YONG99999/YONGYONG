{
 "cells": [
  {
   "cell_type": "code",
   "execution_count": 7,
   "id": "410ace30",
   "metadata": {},
   "outputs": [],
   "source": [
    "class Family:\n",
    "    lastname = \"김\""
   ]
  },
  {
   "cell_type": "code",
   "execution_count": 8,
   "id": "b6b30917",
   "metadata": {
    "scrolled": true
   },
   "outputs": [
    {
     "data": {
      "text/plain": [
       "'김'"
      ]
     },
     "execution_count": 8,
     "metadata": {},
     "output_type": "execute_result"
    }
   ],
   "source": [
    "Family.lastname"
   ]
  },
  {
   "cell_type": "code",
   "execution_count": 9,
   "id": "6ec8dd04",
   "metadata": {
    "scrolled": true
   },
   "outputs": [
    {
     "data": {
      "text/plain": [
       "('김', '김')"
      ]
     },
     "execution_count": 9,
     "metadata": {},
     "output_type": "execute_result"
    }
   ],
   "source": [
    "a = Family()\n",
    "b = Family()\n",
    "a.lastname, b.lastname"
   ]
  },
  {
   "cell_type": "code",
   "execution_count": 10,
   "id": "e1361777",
   "metadata": {},
   "outputs": [
    {
     "data": {
      "text/plain": [
       "('박', '박')"
      ]
     },
     "execution_count": 10,
     "metadata": {},
     "output_type": "execute_result"
    }
   ],
   "source": [
    "Family.lastname = \"박\"\n",
    "a.lastname, b.lastname"
   ]
  },
  {
   "cell_type": "code",
   "execution_count": 11,
   "id": "654fbcfe",
   "metadata": {},
   "outputs": [
    {
     "data": {
      "text/plain": [
       "'최'"
      ]
     },
     "execution_count": 11,
     "metadata": {},
     "output_type": "execute_result"
    }
   ],
   "source": [
    "a.lastname = \"최\"\n",
    "a.lastname"
   ]
  },
  {
   "cell_type": "code",
   "execution_count": 13,
   "id": "1f6008e3",
   "metadata": {},
   "outputs": [
    {
     "data": {
      "text/plain": [
       "'박'"
      ]
     },
     "execution_count": 13,
     "metadata": {},
     "output_type": "execute_result"
    }
   ],
   "source": [
    "Family.lastname\n",
    "b.lastname"
   ]
  },
  {
   "cell_type": "code",
   "execution_count": 17,
   "id": "6a662f45",
   "metadata": {},
   "outputs": [
    {
     "ename": "SyntaxError",
     "evalue": "invalid syntax. Perhaps you forgot a comma? (1078657578.py, line 5)",
     "output_type": "error",
     "traceback": [
      "\u001b[1;36m  Cell \u001b[1;32mIn[17], line 5\u001b[1;36m\u001b[0m\n\u001b[1;33m    (... 생략 ...)\u001b[0m\n\u001b[1;37m     ^\u001b[0m\n\u001b[1;31mSyntaxError\u001b[0m\u001b[1;31m:\u001b[0m invalid syntax. Perhaps you forgot a comma?\n"
     ]
    }
   ],
   "source": [
    "try:\n",
    "    f = open('새파일.txt', 'w')\n",
    "    # 무언가를 수행한다.\n",
    "\n",
    "    (... 생략 ...)\n",
    "\n",
    "finally:\n",
    "    f.close()"
   ]
  },
  {
   "cell_type": "code",
   "execution_count": 18,
   "id": "0e9ff943",
   "metadata": {},
   "outputs": [
    {
     "name": "stdout",
     "output_type": "stream",
     "text": [
      "인덱싱 할 수 없습니다.\n"
     ]
    }
   ],
   "source": [
    "try:\n",
    "    a = [1,2]\n",
    "    print(a[3])\n",
    "    4/0\n",
    "except ZeroDivisionError:\n",
    "    print(\"0으로 나눌 수 없습니다.\")\n",
    "except IndexError:\n",
    "    print(\"인덱싱 할 수 없습니다.\")"
   ]
  },
  {
   "cell_type": "code",
   "execution_count": 19,
   "id": "e6a932f9",
   "metadata": {},
   "outputs": [
    {
     "name": "stdout",
     "output_type": "stream",
     "text": [
      "list index out of range\n"
     ]
    }
   ],
   "source": [
    "try:\n",
    "    a = [1,2]\n",
    "    print(a[3])\n",
    "    4/0\n",
    "except (ZeroDivisionError, IndexError) as e:\n",
    "    print(e)"
   ]
  },
  {
   "cell_type": "code",
   "execution_count": 20,
   "id": "dc57a92e",
   "metadata": {},
   "outputs": [
    {
     "name": "stdout",
     "output_type": "stream",
     "text": [
      "[1, 2, 6]\n"
     ]
    }
   ],
   "source": [
    "def positive(l): \n",
    "    result = [] \n",
    "    for i in l: \n",
    "        if i > 0: \n",
    "            result.append(i) \n",
    "    return result\n",
    "\n",
    "print(positive([1,-3,2,0,-5,6]))"
   ]
  },
  {
   "cell_type": "code",
   "execution_count": 21,
   "id": "53754121",
   "metadata": {},
   "outputs": [
    {
     "name": "stdout",
     "output_type": "stream",
     "text": [
      "[1, 2, 6]\n"
     ]
    }
   ],
   "source": [
    "def positive(x):\n",
    "    return x > 0\n",
    "\n",
    "print(list(filter(positive, [1, -3, 2, 0, -5, 6])))"
   ]
  },
  {
   "cell_type": "code",
   "execution_count": 22,
   "id": "cbc05c28",
   "metadata": {},
   "outputs": [
    {
     "data": {
      "text/plain": [
       "[1, 2, 6]"
      ]
     },
     "execution_count": 22,
     "metadata": {},
     "output_type": "execute_result"
    }
   ],
   "source": [
    "list(filter(lambda x: x > 0, [1, -3, 2, 0, -5, 6]))\n",
    "[1, 2, 6]"
   ]
  },
  {
   "cell_type": "code",
   "execution_count": 23,
   "id": "45cc9761",
   "metadata": {},
   "outputs": [
    {
     "data": {
      "text/plain": [
       "True"
      ]
     },
     "execution_count": 23,
     "metadata": {},
     "output_type": "execute_result"
    }
   ],
   "source": [
    "class Person: pass\n",
    "a = Person()\n",
    "isinstance(a, Person)"
   ]
  },
  {
   "cell_type": "code",
   "execution_count": 24,
   "id": "8d58d4a0",
   "metadata": {},
   "outputs": [
    {
     "data": {
      "text/plain": [
       "False"
      ]
     },
     "execution_count": 24,
     "metadata": {},
     "output_type": "execute_result"
    }
   ],
   "source": [
    "b = 3\n",
    "isinstance(b, Person)"
   ]
  },
  {
   "cell_type": "code",
   "execution_count": 25,
   "id": "15d91918",
   "metadata": {},
   "outputs": [
    {
     "data": {
      "text/plain": [
       "6"
      ]
     },
     "execution_count": 25,
     "metadata": {},
     "output_type": "execute_result"
    }
   ],
   "source": [
    "len(\"python\")"
   ]
  },
  {
   "cell_type": "code",
   "execution_count": 26,
   "id": "2305d2aa",
   "metadata": {},
   "outputs": [
    {
     "data": {
      "text/plain": [
       "3"
      ]
     },
     "execution_count": 26,
     "metadata": {},
     "output_type": "execute_result"
    }
   ],
   "source": [
    "len([1,2,3])"
   ]
  },
  {
   "cell_type": "code",
   "execution_count": 27,
   "id": "c1af1fe5",
   "metadata": {},
   "outputs": [
    {
     "data": {
      "text/plain": [
       "2"
      ]
     },
     "execution_count": 27,
     "metadata": {},
     "output_type": "execute_result"
    }
   ],
   "source": [
    "len((1, 'a'))"
   ]
  },
  {
   "cell_type": "code",
   "execution_count": 28,
   "id": "978f1a36",
   "metadata": {},
   "outputs": [
    {
     "data": {
      "text/plain": [
       "['p', 'y', 't', 'h', 'o', 'n']"
      ]
     },
     "execution_count": 28,
     "metadata": {},
     "output_type": "execute_result"
    }
   ],
   "source": [
    "list(\"python\")"
   ]
  },
  {
   "cell_type": "code",
   "execution_count": 29,
   "id": "1e51aa59",
   "metadata": {},
   "outputs": [
    {
     "data": {
      "text/plain": [
       "[1, 2, 3]"
      ]
     },
     "execution_count": 29,
     "metadata": {},
     "output_type": "execute_result"
    }
   ],
   "source": [
    "list((1,2,3))"
   ]
  },
  {
   "cell_type": "code",
   "execution_count": 30,
   "id": "43aebdb3",
   "metadata": {},
   "outputs": [
    {
     "data": {
      "text/plain": [
       "[1, 2, 3]"
      ]
     },
     "execution_count": 30,
     "metadata": {},
     "output_type": "execute_result"
    }
   ],
   "source": [
    "a = [1, 2, 3]\n",
    "b = list(a)\n",
    "b"
   ]
  },
  {
   "cell_type": "code",
   "execution_count": 31,
   "id": "f9204fdd",
   "metadata": {},
   "outputs": [
    {
     "name": "stdout",
     "output_type": "stream",
     "text": [
      "[2, 4, 6, 8]\n"
     ]
    }
   ],
   "source": [
    "def two_times(numberList):\n",
    "    result = []\n",
    "    for number in numberList:\n",
    "        result.append(number*2)\n",
    "    return result\n",
    "\n",
    "result = two_times([1, 2, 3, 4])\n",
    "print(result)"
   ]
  },
  {
   "cell_type": "code",
   "execution_count": 33,
   "id": "5d7534f8",
   "metadata": {},
   "outputs": [
    {
     "name": "stdout",
     "output_type": "stream",
     "text": [
      "[2, 4, 6, 8]\n"
     ]
    }
   ],
   "source": [
    "def two_times(x): \n",
    "    return x*2\n",
    "print(list(map(two_times, [1, 2, 3, 4])))"
   ]
  },
  {
   "cell_type": "code",
   "execution_count": 34,
   "id": "bc32923e",
   "metadata": {},
   "outputs": [
    {
     "name": "stdout",
     "output_type": "stream",
     "text": [
      "[2, 4, 6, 8]\n"
     ]
    },
    {
     "data": {
      "text/plain": [
       "[2, 4, 6, 8]"
      ]
     },
     "execution_count": 34,
     "metadata": {},
     "output_type": "execute_result"
    }
   ],
   "source": [
    "print(list(map(lambda a: a*2, [1, 2, 3, 4])))\n",
    "[2, 4, 6, 8]"
   ]
  },
  {
   "cell_type": "code",
   "execution_count": 35,
   "id": "f6a2d486",
   "metadata": {},
   "outputs": [
    {
     "data": {
      "text/plain": [
       "[0, 1, 2, 3, 4]"
      ]
     },
     "execution_count": 35,
     "metadata": {},
     "output_type": "execute_result"
    }
   ],
   "source": [
    "list(range(5))"
   ]
  },
  {
   "cell_type": "code",
   "execution_count": 36,
   "id": "694c4c63",
   "metadata": {},
   "outputs": [
    {
     "data": {
      "text/plain": [
       "[5, 6, 7, 8, 9]"
      ]
     },
     "execution_count": 36,
     "metadata": {},
     "output_type": "execute_result"
    }
   ],
   "source": [
    "list(range(5, 10))"
   ]
  },
  {
   "cell_type": "code",
   "execution_count": 37,
   "id": "959d076e",
   "metadata": {},
   "outputs": [
    {
     "data": {
      "text/plain": [
       "[1, 3, 5, 7, 9]"
      ]
     },
     "execution_count": 37,
     "metadata": {},
     "output_type": "execute_result"
    }
   ],
   "source": [
    "list(range(1, 10, 2))"
   ]
  },
  {
   "cell_type": "code",
   "execution_count": 38,
   "id": "bd7360cc",
   "metadata": {},
   "outputs": [
    {
     "data": {
      "text/plain": [
       "[0, -1, -2, -3, -4, -5, -6, -7, -8, -9]"
      ]
     },
     "execution_count": 38,
     "metadata": {},
     "output_type": "execute_result"
    }
   ],
   "source": [
    "list(range(0, -10, -1))"
   ]
  },
  {
   "cell_type": "code",
   "execution_count": 39,
   "id": "fc1f3175",
   "metadata": {},
   "outputs": [
    {
     "data": {
      "text/plain": [
       "5"
      ]
     },
     "execution_count": 39,
     "metadata": {},
     "output_type": "execute_result"
    }
   ],
   "source": [
    "round(4.6)"
   ]
  },
  {
   "cell_type": "code",
   "execution_count": 40,
   "id": "acff40ea",
   "metadata": {},
   "outputs": [
    {
     "data": {
      "text/plain": [
       "4"
      ]
     },
     "execution_count": 40,
     "metadata": {},
     "output_type": "execute_result"
    }
   ],
   "source": [
    "round(4.2)"
   ]
  },
  {
   "cell_type": "code",
   "execution_count": 41,
   "id": "c48b37b0",
   "metadata": {},
   "outputs": [
    {
     "data": {
      "text/plain": [
       "[1, 2, 3]"
      ]
     },
     "execution_count": 41,
     "metadata": {},
     "output_type": "execute_result"
    }
   ],
   "source": [
    "sorted([3, 1, 2])"
   ]
  },
  {
   "cell_type": "code",
   "execution_count": 42,
   "id": "d1f9231e",
   "metadata": {},
   "outputs": [
    {
     "data": {
      "text/plain": [
       "['a', 'b', 'c']"
      ]
     },
     "execution_count": 42,
     "metadata": {},
     "output_type": "execute_result"
    }
   ],
   "source": [
    "sorted(['a', 'c', 'b'])"
   ]
  },
  {
   "cell_type": "code",
   "execution_count": 43,
   "id": "ced7db90",
   "metadata": {},
   "outputs": [
    {
     "data": {
      "text/plain": [
       "['e', 'o', 'r', 'z']"
      ]
     },
     "execution_count": 43,
     "metadata": {},
     "output_type": "execute_result"
    }
   ],
   "source": [
    "sorted(\"zero\")"
   ]
  },
  {
   "cell_type": "code",
   "execution_count": 44,
   "id": "340b3e51",
   "metadata": {},
   "outputs": [
    {
     "data": {
      "text/plain": [
       "[1, 2, 3]"
      ]
     },
     "execution_count": 44,
     "metadata": {},
     "output_type": "execute_result"
    }
   ],
   "source": [
    "sorted((3, 2, 1))"
   ]
  },
  {
   "cell_type": "code",
   "execution_count": 45,
   "id": "dc424968",
   "metadata": {},
   "outputs": [
    {
     "data": {
      "text/plain": [
       "('a', 'b', 'c')"
      ]
     },
     "execution_count": 45,
     "metadata": {},
     "output_type": "execute_result"
    }
   ],
   "source": [
    "tuple(\"abc\")"
   ]
  },
  {
   "cell_type": "code",
   "execution_count": 46,
   "id": "fd2c6c8f",
   "metadata": {},
   "outputs": [
    {
     "data": {
      "text/plain": [
       "(1, 2, 3)"
      ]
     },
     "execution_count": 46,
     "metadata": {},
     "output_type": "execute_result"
    }
   ],
   "source": [
    "tuple([1, 2, 3])"
   ]
  },
  {
   "cell_type": "code",
   "execution_count": 47,
   "id": "12670216",
   "metadata": {},
   "outputs": [
    {
     "data": {
      "text/plain": [
       "(1, 2, 3)"
      ]
     },
     "execution_count": 47,
     "metadata": {},
     "output_type": "execute_result"
    }
   ],
   "source": [
    "tuple((1, 2, 3))"
   ]
  },
  {
   "cell_type": "code",
   "execution_count": 48,
   "id": "803cb431",
   "metadata": {},
   "outputs": [
    {
     "data": {
      "text/plain": [
       "str"
      ]
     },
     "execution_count": 48,
     "metadata": {},
     "output_type": "execute_result"
    }
   ],
   "source": [
    "type(\"abc\")"
   ]
  },
  {
   "cell_type": "code",
   "execution_count": 50,
   "id": "131a9292",
   "metadata": {},
   "outputs": [
    {
     "data": {
      "text/plain": [
       "list"
      ]
     },
     "execution_count": 50,
     "metadata": {},
     "output_type": "execute_result"
    }
   ],
   "source": [
    "type([ ])"
   ]
  },
  {
   "cell_type": "code",
   "execution_count": 51,
   "id": "d0a74104",
   "metadata": {},
   "outputs": [
    {
     "data": {
      "text/plain": [
       "_io.TextIOWrapper"
      ]
     },
     "execution_count": 51,
     "metadata": {},
     "output_type": "execute_result"
    }
   ],
   "source": [
    "type(open(\"test\", 'w'))"
   ]
  },
  {
   "cell_type": "code",
   "execution_count": 52,
   "id": "11f97aaf",
   "metadata": {},
   "outputs": [
    {
     "data": {
      "text/plain": [
       "[(1, 4), (2, 5), (3, 6)]"
      ]
     },
     "execution_count": 52,
     "metadata": {},
     "output_type": "execute_result"
    }
   ],
   "source": [
    "list(zip([1, 2, 3], [4, 5, 6]))"
   ]
  },
  {
   "cell_type": "code",
   "execution_count": 53,
   "id": "2aa2a5d0",
   "metadata": {},
   "outputs": [
    {
     "data": {
      "text/plain": [
       "[(1, 4, 7), (2, 5, 8), (3, 6, 9)]"
      ]
     },
     "execution_count": 53,
     "metadata": {},
     "output_type": "execute_result"
    }
   ],
   "source": [
    "list(zip([1, 2, 3], [4, 5, 6], [7, 8, 9]))"
   ]
  },
  {
   "cell_type": "code",
   "execution_count": 54,
   "id": "d05767dd",
   "metadata": {},
   "outputs": [
    {
     "data": {
      "text/plain": [
       "[('a', 'd'), ('b', 'e'), ('c', 'f')]"
      ]
     },
     "execution_count": 54,
     "metadata": {},
     "output_type": "execute_result"
    }
   ],
   "source": [
    "list(zip(\"abc\", \"def\"))"
   ]
  },
  {
   "cell_type": "code",
   "execution_count": 55,
   "id": "e03fd931",
   "metadata": {},
   "outputs": [],
   "source": [
    "import datetime\n",
    "day1 = datetime.date(2021, 12, 14)\n",
    "day2 = datetime.date(2023, 4, 5)"
   ]
  },
  {
   "cell_type": "code",
   "execution_count": 57,
   "id": "a4a84abc",
   "metadata": {},
   "outputs": [
    {
     "data": {
      "text/plain": [
       "477"
      ]
     },
     "execution_count": 57,
     "metadata": {},
     "output_type": "execute_result"
    }
   ],
   "source": [
    "diff = day2 - day1\n",
    "diff.days"
   ]
  },
  {
   "cell_type": "code",
   "execution_count": 58,
   "id": "19f11e7b",
   "metadata": {},
   "outputs": [
    {
     "data": {
      "text/plain": [
       "1701757351.6134942"
      ]
     },
     "execution_count": 58,
     "metadata": {},
     "output_type": "execute_result"
    }
   ],
   "source": [
    "import time\n",
    "time.time()"
   ]
  },
  {
   "cell_type": "code",
   "execution_count": 59,
   "id": "ae1d8e98",
   "metadata": {},
   "outputs": [
    {
     "data": {
      "text/plain": [
       "time.struct_time(tm_year=2023, tm_mon=12, tm_mday=5, tm_hour=15, tm_min=22, tm_sec=36, tm_wday=1, tm_yday=339, tm_isdst=0)"
      ]
     },
     "execution_count": 59,
     "metadata": {},
     "output_type": "execute_result"
    }
   ],
   "source": [
    "time.localtime(time.time())"
   ]
  },
  {
   "cell_type": "code",
   "execution_count": 60,
   "id": "361fb0a6",
   "metadata": {},
   "outputs": [
    {
     "data": {
      "text/plain": [
       "'Tue Dec  5 15:22:43 2023'"
      ]
     },
     "execution_count": 60,
     "metadata": {},
     "output_type": "execute_result"
    }
   ],
   "source": [
    "time.asctime(time.localtime(time.time()))"
   ]
  },
  {
   "cell_type": "code",
   "execution_count": 61,
   "id": "e6795647",
   "metadata": {},
   "outputs": [
    {
     "data": {
      "text/plain": [
       "'Tue Dec  5 15:22:51 2023'"
      ]
     },
     "execution_count": 61,
     "metadata": {},
     "output_type": "execute_result"
    }
   ],
   "source": [
    "time.ctime()"
   ]
  },
  {
   "cell_type": "code",
   "execution_count": 62,
   "id": "43cc7344",
   "metadata": {},
   "outputs": [
    {
     "data": {
      "text/plain": [
       "'12/05/23'"
      ]
     },
     "execution_count": 62,
     "metadata": {},
     "output_type": "execute_result"
    }
   ],
   "source": [
    "import time\n",
    "time.strftime('%x', time.localtime(time.time()))"
   ]
  },
  {
   "cell_type": "code",
   "execution_count": 63,
   "id": "923c780c",
   "metadata": {},
   "outputs": [
    {
     "data": {
      "text/plain": [
       "'Tue Dec  5 15:23:23 2023'"
      ]
     },
     "execution_count": 63,
     "metadata": {},
     "output_type": "execute_result"
    }
   ],
   "source": [
    "time.strftime('%c', time.localtime(time.time()))"
   ]
  },
  {
   "cell_type": "code",
   "execution_count": 64,
   "id": "781169c7",
   "metadata": {},
   "outputs": [
    {
     "name": "stdout",
     "output_type": "stream",
     "text": [
      "0\n",
      "1\n",
      "2\n",
      "3\n",
      "4\n",
      "5\n",
      "6\n",
      "7\n",
      "8\n",
      "9\n"
     ]
    }
   ],
   "source": [
    "import time\n",
    "for i in range(10):\n",
    "    print(i)\n",
    "    time.sleep(1)"
   ]
  },
  {
   "cell_type": "code",
   "execution_count": 65,
   "id": "f39e4dd6",
   "metadata": {},
   "outputs": [
    {
     "data": {
      "text/plain": [
       "0.15159864904259224"
      ]
     },
     "execution_count": 65,
     "metadata": {},
     "output_type": "execute_result"
    }
   ],
   "source": [
    "import random\n",
    "random.random()"
   ]
  },
  {
   "cell_type": "code",
   "execution_count": 66,
   "id": "db952149",
   "metadata": {},
   "outputs": [
    {
     "data": {
      "text/plain": [
       "2"
      ]
     },
     "execution_count": 66,
     "metadata": {},
     "output_type": "execute_result"
    }
   ],
   "source": [
    "random.randint(1, 10)"
   ]
  },
  {
   "cell_type": "code",
   "execution_count": 67,
   "id": "f3ad801f",
   "metadata": {},
   "outputs": [
    {
     "data": {
      "text/plain": [
       "46"
      ]
     },
     "execution_count": 67,
     "metadata": {},
     "output_type": "execute_result"
    }
   ],
   "source": [
    "random.randint(1, 55)"
   ]
  },
  {
   "cell_type": "code",
   "execution_count": 68,
   "id": "8285e345",
   "metadata": {},
   "outputs": [
    {
     "name": "stdout",
     "output_type": "stream",
     "text": [
      "4\n",
      "3\n",
      "5\n",
      "2\n",
      "1\n"
     ]
    }
   ],
   "source": [
    "import random\n",
    "def random_pop(data):\n",
    "    number = random.randint(0, len(data)-1)\n",
    "    return data.pop(number)\n",
    "\n",
    "if __name__ == \"__main__\":\n",
    "    data = [1, 2, 3, 4, 5]\n",
    "    while data: \n",
    "        print(random_pop(data))"
   ]
  },
  {
   "cell_type": "code",
   "execution_count": 69,
   "id": "d0457480",
   "metadata": {},
   "outputs": [],
   "source": [
    "def random_pop(data):\n",
    "    number = random.choice(data)\n",
    "    data.remove(number)\n",
    "    return number"
   ]
  },
  {
   "cell_type": "code",
   "execution_count": 71,
   "id": "5c060f38",
   "metadata": {},
   "outputs": [
    {
     "data": {
      "text/plain": [
       "[2, 1, 3, 5, 4]"
      ]
     },
     "execution_count": 71,
     "metadata": {},
     "output_type": "execute_result"
    }
   ],
   "source": [
    "import random\n",
    "data = [1, 2, 3, 4, 5]\n",
    "random.sample(data, len(data))"
   ]
  },
  {
   "cell_type": "code",
   "execution_count": 1,
   "id": "55ce0b39",
   "metadata": {},
   "outputs": [
    {
     "data": {
      "text/plain": [
       "{'name': '홍길동', 'birth': '0525', 'age': 30}"
      ]
     },
     "execution_count": 1,
     "metadata": {},
     "output_type": "execute_result"
    }
   ],
   "source": [
    "{\n",
    "    \"name\": \"홍길동\",\n",
    "    \"birth\": \"0525\",\n",
    "    \"age\": 30\n",
    "}"
   ]
  },
  {
   "cell_type": "code",
   "execution_count": 3,
   "id": "e708aee3",
   "metadata": {},
   "outputs": [
    {
     "ename": "SyntaxError",
     "evalue": "invalid syntax (3746573168.py, line 6)",
     "output_type": "error",
     "traceback": [
      "\u001b[1;36m  Cell \u001b[1;32mIn[3], line 6\u001b[1;36m\u001b[0m\n\u001b[1;33m    <class 'dict'>\u001b[0m\n\u001b[1;37m    ^\u001b[0m\n\u001b[1;31mSyntaxError\u001b[0m\u001b[1;31m:\u001b[0m invalid syntax\n"
     ]
    }
   ],
   "source": [
    "import json\n",
    "with open('myinfo.json') as f:\n",
    "    data = json.load(f)\n",
    "\n",
    "type(data)\n",
    "<class 'dict'>\n",
    "data\n",
    "{'name': '홍길동', 'birth': '0525', 'age': 30}\n"
   ]
  },
  {
   "cell_type": "code",
   "execution_count": 4,
   "id": "bcc2ffa1",
   "metadata": {},
   "outputs": [],
   "source": [
    "import json\n",
    "data = {'name': '홍길동', 'birth': '0525', 'age': 30}\n",
    "with open('myinfo.json', 'w') as f:\n",
    "    json.dump(data, f)"
   ]
  },
  {
   "cell_type": "code",
   "execution_count": 6,
   "id": "20e199df",
   "metadata": {},
   "outputs": [
    {
     "data": {
      "text/plain": [
       "'{\"name\": \"\\\\ud64d\\\\uae38\\\\ub3d9\", \"birth\": \"0525\", \"age\": 30}'"
      ]
     },
     "execution_count": 6,
     "metadata": {},
     "output_type": "execute_result"
    }
   ],
   "source": [
    "import json\n",
    "d = {\"name\":\"홍길동\", \"birth\":\"0525\", \"age\": 30}\n",
    "json_data = json.dumps(d)\n",
    "json_data\n",
    "'{\"name\": \"\\\\ud64d\\\\uae38\\\\ub3d9\", \"birth\": \"0525\", \"age\": 30}'\n"
   ]
  },
  {
   "cell_type": "code",
   "execution_count": 7,
   "id": "a696576f",
   "metadata": {},
   "outputs": [
    {
     "data": {
      "text/plain": [
       "{'name': '홍길동', 'birth': '0525', 'age': 30}"
      ]
     },
     "execution_count": 7,
     "metadata": {},
     "output_type": "execute_result"
    }
   ],
   "source": [
    "json.loads(json_data)"
   ]
  },
  {
   "cell_type": "code",
   "execution_count": 11,
   "id": "799446f4",
   "metadata": {},
   "outputs": [
    {
     "data": {
      "text/plain": [
       "{'name': '홍길동', 'birth': '0525', 'age': 30}"
      ]
     },
     "execution_count": 11,
     "metadata": {},
     "output_type": "execute_result"
    }
   ],
   "source": [
    "d = {\"name\":\"홍길동\", \"birth\":\"0525\", \"age\": 30}\n",
    "json_data = json.dumps(d, ensure_ascii=False)\n",
    "json_data\n",
    "json.loads(json_data)"
   ]
  },
  {
   "cell_type": "code",
   "execution_count": 12,
   "id": "83e3a62f",
   "metadata": {},
   "outputs": [
    {
     "name": "stdout",
     "output_type": "stream",
     "text": [
      "{\n",
      "  \"name\": \"홍길동\",\n",
      "  \"birth\": \"0525\",\n",
      "  \"age\": 30\n",
      "}\n"
     ]
    }
   ],
   "source": [
    "d = {\"name\":\"홍길동\", \"birth\":\"0525\", \"age\": 30}\n",
    "print(json.dumps(d, indent=2, ensure_ascii=False))"
   ]
  },
  {
   "cell_type": "code",
   "execution_count": 13,
   "id": "825d0f03",
   "metadata": {},
   "outputs": [
    {
     "data": {
      "text/plain": [
       "'[1, 2, 3]'"
      ]
     },
     "execution_count": 13,
     "metadata": {},
     "output_type": "execute_result"
    }
   ],
   "source": [
    "json.dumps([1,2,3])"
   ]
  },
  {
   "cell_type": "code",
   "execution_count": 14,
   "id": "e5102141",
   "metadata": {},
   "outputs": [
    {
     "data": {
      "text/plain": [
       "'[4, 5, 6]'"
      ]
     },
     "execution_count": 14,
     "metadata": {},
     "output_type": "execute_result"
    }
   ],
   "source": [
    "json.dumps((4,5,6))"
   ]
  },
  {
   "cell_type": "code",
   "execution_count": 15,
   "id": "405bc1f5",
   "metadata": {},
   "outputs": [],
   "source": [
    "import urllib.request\n",
    "def get_wikidocs(page):\n",
    "    resource = 'https://wikidocs.net/{}'.format(page)\n",
    "    with urllib.request.urlopen(resource) as s:\n",
    "        with open('wikidocs_%s.html' % page, 'wb') as f:\n",
    "            f.write(s.read())"
   ]
  },
  {
   "cell_type": "code",
   "execution_count": 16,
   "id": "42690913",
   "metadata": {},
   "outputs": [],
   "source": [
    "get_wikidocs(12)"
   ]
  },
  {
   "cell_type": "code",
   "execution_count": 17,
   "id": "21bb3be0",
   "metadata": {},
   "outputs": [
    {
     "name": "stdout",
     "output_type": "stream",
     "text": [
      "Note: you may need to restart the kernel to use updated packages.\n"
     ]
    },
    {
     "name": "stderr",
     "output_type": "stream",
     "text": [
      "\n",
      "Usage:   \n",
      "  C:\\Users\\www77\\anaconda3\\python.exe -m pip <command> [options]\n",
      "\n",
      "no such option: --virsion\n"
     ]
    }
   ],
   "source": [
    "pip --virsion"
   ]
  },
  {
   "cell_type": "code",
   "execution_count": 18,
   "id": "9d063e4e",
   "metadata": {},
   "outputs": [
    {
     "name": "stdout",
     "output_type": "stream",
     "text": [
      "Collecting SomePackage\n",
      "  Downloading somepackage-1.2.3.tar.gz (8.6 kB)\n",
      "  Preparing metadata (setup.py): started\n",
      "  Preparing metadata (setup.py): finished with status 'done'\n",
      "Building wheels for collected packages: SomePackage\n",
      "  Building wheel for SomePackage (setup.py): started\n",
      "  Building wheel for SomePackage (setup.py): finished with status 'done'\n",
      "  Created wheel for SomePackage: filename=somepackage-1.2.3-py3-none-any.whl size=9304 sha256=368573f6d97e318f1a4017e9113af2381838f711432cf23a01bb260e32aab6af\n",
      "  Stored in directory: c:\\users\\www77\\appdata\\local\\pip\\cache\\wheels\\b3\\cf\\38\\80a2152a47dc17e0a4bf3698b0493622d2f46bddb3c882eede\n",
      "Successfully built SomePackage\n",
      "Installing collected packages: SomePackage\n",
      "Successfully installed SomePackage-1.2.3\n",
      "Note: you may need to restart the kernel to use updated packages.\n"
     ]
    }
   ],
   "source": [
    "pip install --upgrade SomePackage "
   ]
  },
  {
   "cell_type": "code",
   "execution_count": 19,
   "id": "7cc04eda",
   "metadata": {},
   "outputs": [
    {
     "name": "stdout",
     "output_type": "stream",
     "text": [
      "pip 23.2.1 from C:\\Users\\www77\\anaconda3\\Lib\\site-packages\\pip (python 3.11)\n",
      "\n",
      "Note: you may need to restart the kernel to use updated packages.\n"
     ]
    }
   ],
   "source": [
    "pip --version"
   ]
  },
  {
   "cell_type": "code",
   "execution_count": 20,
   "id": "5ab88ddc",
   "metadata": {},
   "outputs": [
    {
     "name": "stdout",
     "output_type": "stream",
     "text": [
      "Package                           Version\n",
      "--------------------------------- ---------------\n",
      "aiobotocore                       2.5.0\n",
      "aiofiles                          22.1.0\n",
      "aiohttp                           3.8.5\n",
      "aioitertools                      0.7.1\n",
      "aiosignal                         1.2.0\n",
      "aiosqlite                         0.18.0\n",
      "alabaster                         0.7.12\n",
      "anaconda-anon-usage               0.4.2\n",
      "anaconda-catalogs                 0.2.0\n",
      "anaconda-client                   1.12.1\n",
      "anaconda-cloud-auth               0.1.3\n",
      "anaconda-navigator                2.5.0\n",
      "anaconda-project                  0.11.1\n",
      "anyio                             3.5.0\n",
      "appdirs                           1.4.4\n",
      "argon2-cffi                       21.3.0\n",
      "argon2-cffi-bindings              21.2.0\n",
      "arrow                             1.2.3\n",
      "astroid                           2.14.2\n",
      "astropy                           5.1\n",
      "asttokens                         2.0.5\n",
      "async-timeout                     4.0.2\n",
      "atomicwrites                      1.4.0\n",
      "attrs                             22.1.0\n",
      "Automat                           20.2.0\n",
      "autopep8                          1.6.0\n",
      "Babel                             2.11.0\n",
      "backcall                          0.2.0\n",
      "backports.functools-lru-cache     1.6.4\n",
      "backports.tempfile                1.0\n",
      "backports.weakref                 1.0.post1\n",
      "bcrypt                            3.2.0\n",
      "beautifulsoup4                    4.12.2\n",
      "binaryornot                       0.4.4\n",
      "black                             0.0\n",
      "bleach                            4.1.0\n",
      "bokeh                             3.2.1\n",
      "boltons                           23.0.0\n",
      "botocore                          1.29.76\n",
      "Bottleneck                        1.3.5\n",
      "brotlipy                          0.7.0\n",
      "certifi                           2023.7.22\n",
      "cffi                              1.15.1\n",
      "chardet                           4.0.0\n",
      "charset-normalizer                2.0.4\n",
      "click                             8.0.4\n",
      "cloudpickle                       2.2.1\n",
      "clyent                            1.2.2\n",
      "colorama                          0.4.6\n",
      "colorcet                          3.0.1\n",
      "comm                              0.1.2\n",
      "conda                             23.7.4\n",
      "conda-build                       3.26.1\n",
      "conda-content-trust               0.2.0\n",
      "conda_index                       0.3.0\n",
      "conda-libmamba-solver             23.7.0\n",
      "conda-pack                        0.6.0\n",
      "conda-package-handling            2.2.0\n",
      "conda_package_streaming           0.9.0\n",
      "conda-repo-cli                    1.0.75\n",
      "conda-token                       0.4.0\n",
      "conda-verify                      3.4.2\n",
      "constantly                        15.1.0\n",
      "contourpy                         1.0.5\n",
      "cookiecutter                      1.7.3\n",
      "cryptography                      41.0.3\n",
      "cssselect                         1.1.0\n",
      "cycler                            0.11.0\n",
      "cytoolz                           0.12.0\n",
      "daal4py                           2023.1.1\n",
      "dask                              2023.6.0\n",
      "datasets                          2.12.0\n",
      "datashader                        0.15.2\n",
      "datashape                         0.5.4\n",
      "debugpy                           1.6.7\n",
      "decorator                         5.1.1\n",
      "defusedxml                        0.7.1\n",
      "diff-match-patch                  20200713\n",
      "dill                              0.3.6\n",
      "distributed                       2023.6.0\n",
      "docstring-to-markdown             0.11\n",
      "docutils                          0.18.1\n",
      "entrypoints                       0.4\n",
      "et-xmlfile                        1.1.0\n",
      "executing                         0.8.3\n",
      "fastjsonschema                    2.16.2\n",
      "filelock                          3.9.0\n",
      "flake8                            6.0.0\n",
      "Flask                             2.2.2\n",
      "fonttools                         4.25.0\n",
      "frozenlist                        1.3.3\n",
      "fsspec                            2023.4.0\n",
      "future                            0.18.3\n",
      "gensim                            4.3.0\n",
      "glob2                             0.7\n",
      "greenlet                          2.0.1\n",
      "h5py                              3.9.0\n",
      "HeapDict                          1.0.1\n",
      "holoviews                         1.17.1\n",
      "huggingface-hub                   0.15.1\n",
      "hvplot                            0.8.4\n",
      "hyperlink                         21.0.0\n",
      "idna                              3.4\n",
      "imagecodecs                       2023.1.23\n",
      "imageio                           2.26.0\n",
      "imagesize                         1.4.1\n",
      "imbalanced-learn                  0.10.1\n",
      "importlib-metadata                6.0.0\n",
      "incremental                       21.3.0\n",
      "inflection                        0.5.1\n",
      "iniconfig                         1.1.1\n",
      "intake                            0.6.8\n",
      "intervaltree                      3.1.0\n",
      "ipykernel                         6.25.0\n",
      "ipython                           8.15.0\n",
      "ipython-genutils                  0.2.0\n",
      "ipywidgets                        8.0.4\n",
      "isort                             5.9.3\n",
      "itemadapter                       0.3.0\n",
      "itemloaders                       1.0.4\n",
      "itsdangerous                      2.0.1\n",
      "jaraco.classes                    3.2.1\n",
      "jedi                              0.18.1\n",
      "jellyfish                         1.0.1\n",
      "Jinja2                            3.1.2\n",
      "jinja2-time                       0.2.0\n",
      "jmespath                          0.10.0\n",
      "joblib                            1.2.0\n",
      "json5                             0.9.6\n",
      "jsonpatch                         1.32\n",
      "jsonpointer                       2.1\n",
      "jsonschema                        4.17.3\n",
      "jupyter                           1.0.0\n",
      "jupyter_client                    7.4.9\n",
      "jupyter-console                   6.6.3\n",
      "jupyter-contrib-core              0.4.2\n",
      "jupyter-contrib-nbextensions      0.7.0\n",
      "jupyter_core                      5.3.0\n",
      "jupyter-events                    0.6.3\n",
      "jupyter-highlight-selected-word   0.2.0\n",
      "jupyter-nbextensions-configurator 0.6.3\n",
      "jupyter-server                    1.23.4\n",
      "jupyter_server_fileid             0.9.0\n",
      "jupyter_server_ydoc               0.8.0\n",
      "jupyter-ydoc                      0.2.4\n",
      "jupyterlab                        3.6.3\n",
      "jupyterlab-pygments               0.1.2\n",
      "jupyterlab_server                 2.22.0\n",
      "jupyterlab-widgets                3.0.5\n",
      "kaleido                           0.2.1\n",
      "keyring                           23.13.1\n",
      "kiwisolver                        1.4.4\n",
      "lazy_loader                       0.2\n",
      "lazy-object-proxy                 1.6.0\n",
      "libarchive-c                      2.9\n",
      "libmambapy                        1.5.1\n",
      "linkify-it-py                     2.0.0\n",
      "llvmlite                          0.40.0\n",
      "lmdb                              1.4.1\n",
      "locket                            1.0.0\n",
      "lxml                              4.9.3\n",
      "lz4                               4.3.2\n",
      "Markdown                          3.4.1\n",
      "markdown-it-py                    2.2.0\n",
      "MarkupSafe                        2.1.1\n",
      "matplotlib                        3.7.2\n",
      "matplotlib-inline                 0.1.6\n",
      "mccabe                            0.7.0\n",
      "mdit-py-plugins                   0.3.0\n",
      "mdurl                             0.1.0\n",
      "menuinst                          1.4.19\n",
      "mistune                           0.8.4\n",
      "mkl-fft                           1.3.8\n",
      "mkl-random                        1.2.4\n",
      "mkl-service                       2.4.0\n",
      "more-itertools                    8.12.0\n",
      "mpmath                            1.3.0\n",
      "msgpack                           1.0.3\n",
      "multidict                         6.0.2\n",
      "multipledispatch                  0.6.0\n",
      "multiprocess                      0.70.14\n",
      "munkres                           1.1.4\n",
      "mypy-extensions                   1.0.0\n",
      "navigator-updater                 0.4.0\n",
      "nbclassic                         0.5.5\n",
      "nbclient                          0.5.13\n",
      "nbconvert                         6.5.4\n",
      "nbformat                          5.9.2\n",
      "nest-asyncio                      1.5.6\n",
      "networkx                          3.1\n",
      "nltk                              3.8.1\n",
      "notebook                          6.5.4\n",
      "notebook_shim                     0.2.2\n",
      "numba                             0.57.1\n",
      "numexpr                           2.8.4\n",
      "numpy                             1.24.3\n",
      "numpydoc                          1.5.0\n",
      "openpyxl                          3.0.10\n",
      "packaging                         23.1\n",
      "pandas                            2.0.3\n",
      "pandocfilters                     1.5.0\n",
      "panel                             1.2.3\n",
      "param                             1.13.0\n",
      "paramiko                          2.8.1\n",
      "parsel                            1.6.0\n",
      "parso                             0.8.3\n",
      "partd                             1.4.0\n",
      "pathlib                           1.0.1\n",
      "pathspec                          0.10.3\n",
      "patsy                             0.5.3\n",
      "pep8                              1.7.1\n",
      "pexpect                           4.8.0\n",
      "pickleshare                       0.7.5\n",
      "Pillow                            9.4.0\n",
      "pip                               23.2.1\n",
      "pkce                              1.0.3\n",
      "pkginfo                           1.9.6\n",
      "platformdirs                      3.10.0\n",
      "plotly                            5.9.0\n",
      "pluggy                            1.0.0\n",
      "ply                               3.11\n",
      "poyo                              0.5.0\n",
      "prometheus-client                 0.14.1\n",
      "prompt-toolkit                    3.0.36\n",
      "Protego                           0.1.16\n",
      "psutil                            5.9.0\n",
      "ptyprocess                        0.7.0\n",
      "pure-eval                         0.2.2\n",
      "py-cpuinfo                        8.0.0\n",
      "pyarrow                           11.0.0\n",
      "pyasn1                            0.4.8\n",
      "pyasn1-modules                    0.2.8\n",
      "pycodestyle                       2.10.0\n",
      "pycosat                           0.6.4\n",
      "pycparser                         2.21\n",
      "pyct                              0.5.0\n",
      "pycurl                            7.45.2\n",
      "pydantic                          1.10.8\n",
      "PyDispatcher                      2.0.5\n",
      "pydocstyle                        6.3.0\n",
      "pyerfa                            2.0.0\n",
      "pyflakes                          3.0.1\n",
      "Pygments                          2.15.1\n",
      "PyJWT                             2.4.0\n",
      "pylint                            2.16.2\n",
      "pylint-venv                       2.3.0\n",
      "pyls-spyder                       0.4.0\n",
      "PyNaCl                            1.5.0\n",
      "pyodbc                            4.0.34\n",
      "pyOpenSSL                         23.2.0\n",
      "pyparsing                         3.0.9\n",
      "PyQt5                             5.15.7\n",
      "PyQt5-sip                         12.11.0\n",
      "PyQtWebEngine                     5.15.4\n",
      "pyrsistent                        0.18.0\n",
      "PySocks                           1.7.1\n",
      "pytest                            7.4.0\n",
      "python-dateutil                   2.8.2\n",
      "python-dotenv                     0.21.0\n",
      "python-json-logger                2.0.7\n",
      "python-lsp-black                  1.2.1\n",
      "python-lsp-jsonrpc                1.0.0\n",
      "python-lsp-server                 1.7.2\n",
      "python-slugify                    5.0.2\n",
      "python-snappy                     0.6.1\n",
      "pytoolconfig                      1.2.5\n",
      "pytz                              2023.3.post1\n",
      "pyviz-comms                       2.3.0\n",
      "PyWavelets                        1.4.1\n",
      "pywin32                           305.1\n",
      "pywin32-ctypes                    0.2.0\n",
      "pywinpty                          2.0.10\n",
      "PyYAML                            6.0\n",
      "pyzmq                             23.2.0\n",
      "QDarkStyle                        3.0.2\n",
      "qstylizer                         0.2.2\n",
      "QtAwesome                         1.2.2\n",
      "qtconsole                         5.4.2\n",
      "QtPy                              2.2.0\n",
      "queuelib                          1.5.0\n",
      "regex                             2022.7.9\n",
      "requests                          2.31.0\n",
      "requests-file                     1.5.1\n",
      "requests-toolbelt                 1.0.0\n",
      "responses                         0.13.3\n",
      "rfc3339-validator                 0.1.4\n",
      "rfc3986-validator                 0.1.1\n",
      "rope                              1.7.0\n",
      "Rtree                             1.0.1\n",
      "ruamel.yaml                       0.17.21\n",
      "ruamel-yaml-conda                 0.17.21\n",
      "s3fs                              2023.4.0\n",
      "safetensors                       0.3.2\n",
      "scikit-image                      0.20.0\n",
      "scikit-learn                      1.3.0\n",
      "scikit-learn-intelex              20230426.121932\n",
      "scipy                             1.11.1\n",
      "Scrapy                            2.8.0\n",
      "seaborn                           0.12.2\n",
      "Send2Trash                        1.8.0\n",
      "service-identity                  18.1.0\n",
      "setuptools                        68.0.0\n",
      "sip                               6.6.2\n",
      "six                               1.16.0\n",
      "smart-open                        5.2.1\n",
      "sniffio                           1.2.0\n",
      "snowballstemmer                   2.2.0\n",
      "somepackage                       1.2.3\n",
      "sortedcontainers                  2.4.0\n",
      "soupsieve                         2.4\n",
      "Sphinx                            5.0.2\n",
      "sphinxcontrib-applehelp           1.0.2\n",
      "sphinxcontrib-devhelp             1.0.2\n",
      "sphinxcontrib-htmlhelp            2.0.0\n",
      "sphinxcontrib-jsmath              1.0.1\n",
      "sphinxcontrib-qthelp              1.0.3\n",
      "sphinxcontrib-serializinghtml     1.1.5\n",
      "spyder                            5.4.3\n",
      "spyder-kernels                    2.4.4\n",
      "SQLAlchemy                        1.4.39\n",
      "stack-data                        0.2.0\n",
      "statsmodels                       0.14.0\n",
      "sympy                             1.11.1\n",
      "tables                            3.8.0\n",
      "tabulate                          0.8.10\n",
      "TBB                               0.2\n",
      "tblib                             1.7.0\n",
      "tenacity                          8.2.2\n",
      "terminado                         0.17.1\n",
      "text-unidecode                    1.3\n",
      "textdistance                      4.2.1\n",
      "threadpoolctl                     2.2.0\n",
      "three-merge                       0.1.1\n",
      "tifffile                          2023.4.12\n",
      "tinycss2                          1.2.1\n",
      "tldextract                        3.2.0\n",
      "tokenizers                        0.13.2\n",
      "toml                              0.10.2\n",
      "tomlkit                           0.11.1\n",
      "toolz                             0.12.0\n",
      "tornado                           6.3.2\n",
      "tqdm                              4.65.0\n",
      "traitlets                         5.7.1\n",
      "transformers                      4.32.1\n",
      "Twisted                           22.10.0\n",
      "twisted-iocpsupport               1.0.2\n",
      "typing_extensions                 4.7.1\n",
      "tzdata                            2023.3\n",
      "uc-micro-py                       1.0.1\n",
      "ujson                             5.4.0\n",
      "Unidecode                         1.2.0\n",
      "urllib3                           1.26.16\n",
      "w3lib                             1.21.0\n",
      "watchdog                          2.1.6\n",
      "wcwidth                           0.2.5\n",
      "webencodings                      0.5.1\n",
      "websocket-client                  0.58.0\n",
      "Werkzeug                          2.2.3\n",
      "whatthepatch                      1.0.2\n",
      "wheel                             0.38.4\n",
      "widgetsnbextension                4.0.5\n",
      "win-inet-pton                     1.1.0\n",
      "wrapt                             1.14.1\n",
      "xarray                            2023.6.0\n",
      "xlwings                           0.29.1\n",
      "xxhash                            2.0.2\n",
      "xyzservices                       2022.9.0\n",
      "y-py                              0.5.9\n",
      "yapf                              0.31.0\n",
      "yarl                              1.8.1\n",
      "ypy-websocket                     0.8.2\n",
      "zict                              2.2.0\n",
      "zipp                              3.11.0\n",
      "zope.interface                    5.4.0\n",
      "zstandard                         0.19.0\n",
      "Note: you may need to restart the kernel to use updated packages.\n"
     ]
    }
   ],
   "source": [
    "pip list"
   ]
  },
  {
   "cell_type": "code",
   "execution_count": 21,
   "id": "a5cbd298",
   "metadata": {},
   "outputs": [
    {
     "name": "stdout",
     "output_type": "stream",
     "text": [
      "# packages in environment at C:\\Users\\www77\\anaconda3:\n",
      "Note: you may need to restart the kernel to use updated packages.\n",
      "\n",
      "#\n",
      "# Name                    Version                   Build  Channel\n",
      "_anaconda_depends         2023.09             py311_mkl_1  \n",
      "abseil-cpp                20211102.0           hd77b12b_0  \n",
      "aiobotocore               2.5.0           py311haa95532_0  \n",
      "aiofiles                  22.1.0          py311haa95532_0  \n",
      "aiohttp                   3.8.5           py311h2bbff1b_0  \n",
      "aioitertools              0.7.1              pyhd3eb1b0_0  \n",
      "aiosignal                 1.2.0              pyhd3eb1b0_0  \n",
      "aiosqlite                 0.18.0          py311haa95532_0  \n",
      "alabaster                 0.7.12             pyhd3eb1b0_0  \n",
      "anaconda-anon-usage       0.4.2           py311hfc23b7f_0  \n",
      "anaconda-catalogs         0.2.0           py311haa95532_0  \n",
      "anaconda-client           1.12.1          py311haa95532_0  \n",
      "anaconda-cloud-auth       0.1.3           py311haa95532_0  \n",
      "anaconda-navigator        2.5.0           py311haa95532_0  \n",
      "anaconda-project          0.11.1          py311haa95532_0  \n",
      "anyio                     3.5.0           py311haa95532_0  \n",
      "aom                       3.6.0                hd77b12b_0  \n",
      "appdirs                   1.4.4              pyhd3eb1b0_0  \n",
      "argon2-cffi               21.3.0             pyhd3eb1b0_0  \n",
      "argon2-cffi-bindings      21.2.0          py311h2bbff1b_0  \n",
      "arrow                     1.2.3           py311haa95532_1  \n",
      "arrow-cpp                 11.0.0               ha81ea56_2  \n",
      "astroid                   2.14.2          py311haa95532_0  \n",
      "astropy                   5.1             py311h5bb9823_0  \n",
      "asttokens                 2.0.5              pyhd3eb1b0_0  \n",
      "async-timeout             4.0.2           py311haa95532_0  \n",
      "atomicwrites              1.4.0                      py_0  \n",
      "attrs                     22.1.0          py311haa95532_0  \n",
      "automat                   20.2.0                     py_0  \n",
      "autopep8                  1.6.0              pyhd3eb1b0_1  \n",
      "aws-c-common              0.6.8                h2bbff1b_1  \n",
      "aws-c-event-stream        0.1.6                hd77b12b_6  \n",
      "aws-checksums             0.1.11               h2bbff1b_2  \n",
      "aws-sdk-cpp               1.8.185              hd77b12b_1  \n",
      "babel                     2.11.0          py311haa95532_0  \n",
      "backcall                  0.2.0              pyhd3eb1b0_0  \n",
      "backports                 1.1                pyhd3eb1b0_0  \n",
      "backports.functools_lru_cache 1.6.4              pyhd3eb1b0_0  \n",
      "backports.tempfile        1.0                pyhd3eb1b0_1  \n",
      "backports.weakref         1.0.post1                  py_1  \n",
      "bcrypt                    3.2.0           py311h2bbff1b_1  \n",
      "beautifulsoup4            4.12.2          py311haa95532_0  \n",
      "binaryornot               0.4.4              pyhd3eb1b0_1  \n",
      "black                     23.3.0          py311haa95532_0  \n",
      "blas                      1.0                         mkl  \n",
      "bleach                    4.1.0              pyhd3eb1b0_0  \n",
      "blosc                     1.21.3               h6c2663c_0  \n",
      "bokeh                     3.2.1           py311h746a85d_0  \n",
      "boltons                   23.0.0          py311haa95532_0  \n",
      "boost-cpp                 1.82.0               h59b6b97_1  \n",
      "botocore                  1.29.76         py311haa95532_0  \n",
      "bottleneck                1.3.5           py311h5bb9823_0  \n",
      "brotli                    1.0.9                h2bbff1b_7  \n",
      "brotli-bin                1.0.9                h2bbff1b_7  \n",
      "brotlipy                  0.7.0           py311h2bbff1b_1002  \n",
      "bzip2                     1.0.8                he774522_0  \n",
      "c-ares                    1.19.1               h2bbff1b_0  \n",
      "c-blosc2                  2.8.0                hd77b12b_0  \n",
      "ca-certificates           2023.08.22           haa95532_0  \n",
      "certifi                   2023.7.22       py311haa95532_0  \n",
      "cffi                      1.15.1          py311h2bbff1b_3  \n",
      "cfitsio                   3.470                h2bbff1b_7  \n",
      "chardet                   4.0.0           py311haa95532_1003  \n",
      "charls                    2.2.0                h6c2663c_0  \n",
      "charset-normalizer        2.0.4              pyhd3eb1b0_0  \n",
      "click                     8.0.4           py311haa95532_0  \n",
      "cloudpickle               2.2.1           py311haa95532_0  \n",
      "clyent                    1.2.2           py311haa95532_1  \n",
      "colorama                  0.4.6           py311haa95532_0  \n",
      "colorcet                  3.0.1           py311haa95532_0  \n",
      "comm                      0.1.2           py311haa95532_0  \n",
      "conda                     23.7.4          py311haa95532_0  \n",
      "conda-build               3.26.1          py311haa95532_0  \n",
      "conda-content-trust       0.2.0           py311haa95532_0  \n",
      "conda-index               0.3.0           py311haa95532_0  \n",
      "conda-libmamba-solver     23.7.0          py311haa95532_0  \n",
      "conda-pack                0.6.0              pyhd3eb1b0_0  \n",
      "conda-package-handling    2.2.0           py311haa95532_0  \n",
      "conda-package-streaming   0.9.0           py311haa95532_0  \n",
      "conda-repo-cli            1.0.75          py311haa95532_0  \n",
      "conda-token               0.4.0              pyhd3eb1b0_0  \n",
      "conda-verify              3.4.2                      py_1  \n",
      "console_shortcut          0.1.1                         4  \n",
      "constantly                15.1.0          py311haa95532_0  \n",
      "contourpy                 1.0.5           py311h59b6b97_0  \n",
      "cookiecutter              1.7.3              pyhd3eb1b0_0  \n",
      "cryptography              41.0.3          py311h89fc84f_0  \n",
      "cssselect                 1.1.0              pyhd3eb1b0_0  \n",
      "curl                      8.1.1                h2bbff1b_0  \n",
      "cycler                    0.11.0             pyhd3eb1b0_0  \n",
      "cytoolz                   0.12.0          py311h2bbff1b_0  \n",
      "daal4py                   2023.1.1        py311h30df693_0  \n",
      "dal                       2023.1.1         h59b6b97_48681  \n",
      "dask                      2023.6.0        py311haa95532_0  \n",
      "dask-core                 2023.6.0        py311haa95532_0  \n",
      "datasets                  2.12.0          py311haa95532_0  \n",
      "datashader                0.15.2          py311haa95532_0  \n",
      "datashape                 0.5.4           py311haa95532_1  \n",
      "dav1d                     1.2.1                h2bbff1b_0  \n",
      "debugpy                   1.6.7           py311hd77b12b_0  \n",
      "decorator                 5.1.1              pyhd3eb1b0_0  \n",
      "defusedxml                0.7.1              pyhd3eb1b0_0  \n",
      "diff-match-patch          20200713           pyhd3eb1b0_0  \n",
      "dill                      0.3.6           py311haa95532_0  \n",
      "distributed               2023.6.0        py311haa95532_0  \n",
      "docstring-to-markdown     0.11            py311haa95532_0  \n",
      "docutils                  0.18.1          py311haa95532_3  \n",
      "entrypoints               0.4             py311haa95532_0  \n",
      "et_xmlfile                1.1.0           py311haa95532_0  \n",
      "executing                 0.8.3              pyhd3eb1b0_0  \n",
      "filelock                  3.9.0           py311haa95532_0  \n",
      "flake8                    6.0.0           py311haa95532_0  \n",
      "flask                     2.2.2           py311haa95532_0  \n",
      "fmt                       9.1.0                h6d14046_0  \n",
      "fonttools                 4.25.0             pyhd3eb1b0_0  \n",
      "freetype                  2.12.1               ha860e81_0  \n",
      "frozenlist                1.3.3           py311h2bbff1b_0  \n",
      "fsspec                    2023.4.0        py311haa95532_0  \n",
      "future                    0.18.3          py311haa95532_0  \n",
      "gensim                    4.3.0           py311heda8569_0  \n",
      "gflags                    2.2.2                ha925a31_0  \n",
      "giflib                    5.2.1                h8cc25b3_3  \n",
      "glib                      2.69.1               h5dc1a3c_2  \n",
      "glob2                     0.7                pyhd3eb1b0_0  \n",
      "glog                      0.5.0                hd77b12b_0  \n",
      "greenlet                  2.0.1           py311hd77b12b_0  \n",
      "grpc-cpp                  1.48.2               hfe90ff0_1  \n",
      "h5py                      3.9.0           py311h4e0e482_0  \n",
      "hdf5                      1.12.1               h51c971a_3  \n",
      "heapdict                  1.0.1              pyhd3eb1b0_0  \n",
      "holoviews                 1.17.1          py311haa95532_0  \n",
      "huggingface_hub           0.15.1          py311haa95532_0  \n",
      "hvplot                    0.8.4           py311haa95532_0  \n",
      "hyperlink                 21.0.0             pyhd3eb1b0_0  \n",
      "icc_rt                    2022.1.0             h6049295_2  \n",
      "icu                       58.2                 ha925a31_3  \n",
      "idna                      3.4             py311haa95532_0  \n",
      "imagecodecs               2023.1.23       py311he6ff3c7_0  \n",
      "imageio                   2.26.0          py311haa95532_0  \n",
      "imagesize                 1.4.1           py311haa95532_0  \n",
      "imbalanced-learn          0.10.1          py311haa95532_1  \n",
      "importlib-metadata        6.0.0           py311haa95532_0  \n",
      "importlib_metadata        6.0.0                hd3eb1b0_0  \n",
      "incremental               21.3.0             pyhd3eb1b0_0  \n",
      "inflection                0.5.1           py311haa95532_0  \n",
      "iniconfig                 1.1.1              pyhd3eb1b0_0  \n",
      "intake                    0.6.8           py311haa95532_0  \n",
      "intel-openmp              2023.1.0         h59b6b97_46319  \n",
      "intervaltree              3.1.0              pyhd3eb1b0_0  \n",
      "ipykernel                 6.25.0          py311h746a85d_0  \n",
      "ipython                   8.15.0          py311haa95532_0  \n",
      "ipython_genutils          0.2.0              pyhd3eb1b0_1  \n",
      "ipywidgets                8.0.4           py311haa95532_0  \n",
      "isort                     5.9.3              pyhd3eb1b0_0  \n",
      "itemadapter               0.3.0              pyhd3eb1b0_0  \n",
      "itemloaders               1.0.4              pyhd3eb1b0_1  \n",
      "itsdangerous              2.0.1              pyhd3eb1b0_0  \n",
      "jaraco.classes            3.2.1              pyhd3eb1b0_0  \n",
      "jedi                      0.18.1          py311haa95532_1  \n",
      "jellyfish                 1.0.1           py311h36a85e1_0  \n",
      "jinja2                    3.1.2           py311haa95532_0  \n",
      "jinja2-time               0.2.0              pyhd3eb1b0_3  \n",
      "jmespath                  0.10.0             pyhd3eb1b0_0  \n",
      "joblib                    1.2.0           py311haa95532_0  \n",
      "jpeg                      9e                   h2bbff1b_1  \n",
      "jq                        1.6                  haa95532_1  \n",
      "json5                     0.9.6              pyhd3eb1b0_0  \n",
      "jsonpatch                 1.32               pyhd3eb1b0_0  \n",
      "jsonpointer               2.1                pyhd3eb1b0_0  \n",
      "jsonschema                4.17.3          py311haa95532_0  \n",
      "jupyter                   1.0.0           py311haa95532_8  \n",
      "jupyter-contrib-core      0.4.2                    pypi_0    pypi\n",
      "jupyter-contrib-nbextensions 0.7.0                    pypi_0    pypi\n",
      "jupyter-highlight-selected-word 0.2.0                    pypi_0    pypi\n",
      "jupyter-nbextensions-configurator 0.6.3                    pypi_0    pypi\n",
      "jupyter_client            7.4.9           py311haa95532_0  \n",
      "jupyter_console           6.6.3           py311haa95532_0  \n",
      "jupyter_core              5.3.0           py311haa95532_0  \n",
      "jupyter_events            0.6.3           py311haa95532_0  \n",
      "jupyter_server            1.23.4          py311haa95532_0  \n",
      "jupyter_server_fileid     0.9.0           py311haa95532_0  \n",
      "jupyter_server_ydoc       0.8.0           py311haa95532_1  \n",
      "jupyter_ydoc              0.2.4           py311haa95532_0  \n",
      "jupyterlab                3.6.3           py311haa95532_0  \n",
      "jupyterlab_pygments       0.1.2                      py_0  \n",
      "jupyterlab_server         2.22.0          py311haa95532_0  \n",
      "jupyterlab_widgets        3.0.5           py311haa95532_0  \n",
      "kaleido-core              0.2.1                h2bbff1b_0  \n",
      "keyring                   23.13.1         py311haa95532_0  \n",
      "kiwisolver                1.4.4           py311hd77b12b_0  \n",
      "krb5                      1.20.1               h5b6d351_0  \n",
      "lazy-object-proxy         1.6.0           py311h2bbff1b_0  \n",
      "lazy_loader               0.2             py311haa95532_0  \n",
      "lcms2                     2.12                 h83e58a3_0  \n",
      "lerc                      3.0                  hd77b12b_0  \n",
      "libaec                    1.0.4                h33f27b4_1  \n",
      "libarchive                3.6.2                hb62f4d4_2  \n",
      "libavif                   0.11.1               h2bbff1b_0  \n",
      "libboost                  1.82.0               hae598e9_1  \n",
      "libbrotlicommon           1.0.9                h2bbff1b_7  \n",
      "libbrotlidec              1.0.9                h2bbff1b_7  \n",
      "libbrotlienc              1.0.9                h2bbff1b_7  \n",
      "libclang                  14.0.6          default_hb5a9fac_1  \n",
      "libclang13                14.0.6          default_h8e68704_1  \n",
      "libcurl                   8.1.1                h86230a5_0  \n",
      "libdeflate                1.17                 h2bbff1b_0  \n",
      "libevent                  2.1.12               h56d1f94_1  \n",
      "libffi                    3.4.4                hd77b12b_0  \n",
      "libiconv                  1.16                 h2bbff1b_2  \n",
      "liblief                   0.12.3               hd77b12b_0  \n",
      "libmamba                  1.5.1                hcd6fe79_0  \n",
      "libmambapy                1.5.1           py311h77c03ed_0  \n",
      "libpng                    1.6.39               h8cc25b3_0  \n",
      "libpq                     12.15                h906ac69_1  \n",
      "libprotobuf               3.20.3               h23ce68f_0  \n",
      "libsodium                 1.0.18               h62dcd97_0  \n",
      "libsolv                   0.7.24               h23ce68f_0  \n",
      "libspatialindex           1.9.3                h6c2663c_0  \n",
      "libssh2                   1.10.0               he2ea4bf_2  \n",
      "libthrift                 0.15.0               h4364b78_2  \n",
      "libtiff                   4.5.1                hd77b12b_0  \n",
      "libwebp                   1.3.2                hbc33d0d_0  \n",
      "libwebp-base              1.3.2                h2bbff1b_0  \n",
      "libxml2                   2.10.4               h0ad7f3c_1  \n",
      "libxslt                   1.1.37               h2bbff1b_1  \n",
      "libzopfli                 1.0.3                ha925a31_0  \n",
      "linkify-it-py             2.0.0           py311haa95532_0  \n",
      "llvmlite                  0.40.0          py311hf2fb9eb_0  \n",
      "locket                    1.0.0           py311haa95532_0  \n",
      "lxml                      4.9.3           py311h09808a7_0  \n",
      "lz4                       4.3.2           py311h2bbff1b_0  \n",
      "lz4-c                     1.9.4                h2bbff1b_0  \n",
      "lzo                       2.10                 he774522_2  \n",
      "m2-msys2-runtime          2.5.0.17080.65c939c               3  \n",
      "m2-patch                  2.7.5                         2  \n",
      "m2w64-libwinpthread-git   5.0.0.4634.697f757               2  \n",
      "markdown                  3.4.1           py311haa95532_0  \n",
      "markdown-it-py            2.2.0           py311haa95532_1  \n",
      "markupsafe                2.1.1           py311h2bbff1b_0  \n",
      "mathjax                   2.7.5                haa95532_0  \n",
      "matplotlib                3.7.2           py311haa95532_0  \n",
      "matplotlib-base           3.7.2           py311hf62ec03_0  \n",
      "matplotlib-inline         0.1.6           py311haa95532_0  \n",
      "mccabe                    0.7.0              pyhd3eb1b0_0  \n",
      "mdit-py-plugins           0.3.0           py311haa95532_0  \n",
      "mdurl                     0.1.0           py311haa95532_0  \n",
      "menuinst                  1.4.19          py311h59b6b97_1  \n",
      "mistune                   0.8.4           py311h2bbff1b_1000  \n",
      "mkl                       2023.1.0         h6b88ed4_46357  \n",
      "mkl-service               2.4.0           py311h2bbff1b_1  \n",
      "mkl_fft                   1.3.8           py311h2bbff1b_0  \n",
      "mkl_random                1.2.4           py311h59b6b97_0  \n",
      "more-itertools            8.12.0             pyhd3eb1b0_0  \n",
      "mpmath                    1.3.0           py311haa95532_0  \n",
      "msgpack-python            1.0.3           py311h59b6b97_0  \n",
      "msys2-conda-epoch         20160418                      1  \n",
      "multidict                 6.0.2           py311h2bbff1b_0  \n",
      "multipledispatch          0.6.0           py311haa95532_0  \n",
      "multiprocess              0.70.14         py311haa95532_0  \n",
      "munkres                   1.1.4                      py_0  \n",
      "mypy_extensions           1.0.0           py311haa95532_0  \n",
      "navigator-updater         0.4.0           py311haa95532_1  \n",
      "nbclassic                 0.5.5           py311haa95532_0  \n",
      "nbclient                  0.5.13          py311haa95532_0  \n",
      "nbconvert                 6.5.4           py311haa95532_0  \n",
      "nbformat                  5.9.2           py311haa95532_0  \n",
      "nest-asyncio              1.5.6           py311haa95532_0  \n",
      "networkx                  3.1             py311haa95532_0  \n",
      "nltk                      3.8.1           py311haa95532_0  \n",
      "notebook                  6.5.4           py311haa95532_1  \n",
      "notebook-shim             0.2.2           py311haa95532_0  \n",
      "numba                     0.57.1          py311hf62ec03_0  \n",
      "numexpr                   2.8.4           py311h1fcbade_1  \n",
      "numpy                     1.24.3          py311hdab7c0b_1  \n",
      "numpy-base                1.24.3          py311hd01c5d8_1  \n",
      "numpydoc                  1.5.0           py311haa95532_0  \n",
      "openjpeg                  2.4.0                h4fc8c34_0  \n",
      "openpyxl                  3.0.10          py311h2bbff1b_0  \n",
      "openssl                   3.0.10               h2bbff1b_2  \n",
      "orc                       1.7.4                h623e30f_1  \n",
      "packaging                 23.1            py311haa95532_0  \n",
      "pandas                    2.0.3           py311hf62ec03_0  \n",
      "pandocfilters             1.5.0              pyhd3eb1b0_0  \n",
      "panel                     1.2.3           py311haa95532_0  \n",
      "param                     1.13.0          py311haa95532_0  \n",
      "paramiko                  2.8.1              pyhd3eb1b0_0  \n",
      "parsel                    1.6.0           py311haa95532_0  \n",
      "parso                     0.8.3              pyhd3eb1b0_0  \n",
      "partd                     1.4.0           py311haa95532_0  \n",
      "pathlib                   1.0.1              pyhd3eb1b0_1  \n",
      "pathspec                  0.10.3          py311haa95532_0  \n",
      "patsy                     0.5.3           py311haa95532_0  \n",
      "pcre                      8.45                 hd77b12b_0  \n",
      "pcre2                     10.42                h0ff8eda_0  \n",
      "pep8                      1.7.1           py311haa95532_1  \n",
      "pexpect                   4.8.0              pyhd3eb1b0_3  \n",
      "pickleshare               0.7.5           pyhd3eb1b0_1003  \n",
      "pillow                    9.4.0           py311hd77b12b_1  \n",
      "pip                       23.2.1          py311haa95532_0  \n",
      "pkce                      1.0.3           py311haa95532_0  \n",
      "pkginfo                   1.9.6           py311haa95532_0  \n",
      "platformdirs              3.10.0          py311haa95532_0  \n",
      "plotly                    5.9.0           py311haa95532_0  \n",
      "pluggy                    1.0.0           py311haa95532_1  \n",
      "ply                       3.11            py311haa95532_0  \n",
      "powershell_shortcut       0.0.1                         3  \n",
      "poyo                      0.5.0              pyhd3eb1b0_0  \n",
      "prometheus_client         0.14.1          py311haa95532_0  \n",
      "prompt-toolkit            3.0.36          py311haa95532_0  \n",
      "prompt_toolkit            3.0.36               hd3eb1b0_0  \n",
      "protego                   0.1.16                     py_0  \n",
      "psutil                    5.9.0           py311h2bbff1b_0  \n",
      "ptyprocess                0.7.0              pyhd3eb1b0_2  \n",
      "pure_eval                 0.2.2              pyhd3eb1b0_0  \n",
      "py-cpuinfo                8.0.0              pyhd3eb1b0_1  \n",
      "py-lief                   0.12.3          py311hd77b12b_0  \n",
      "pyarrow                   11.0.0          py311h8a3a540_1  \n",
      "pyasn1                    0.4.8              pyhd3eb1b0_0  \n",
      "pyasn1-modules            0.2.8                      py_0  \n",
      "pybind11-abi              4                    hd3eb1b0_1  \n",
      "pycodestyle               2.10.0          py311haa95532_0  \n",
      "pycosat                   0.6.4           py311h2bbff1b_0  \n",
      "pycparser                 2.21               pyhd3eb1b0_0  \n",
      "pyct                      0.5.0           py311haa95532_0  \n",
      "pycurl                    7.45.2          py311he2ea4bf_1  \n",
      "pydantic                  1.10.8          py311h2bbff1b_0  \n",
      "pydispatcher              2.0.5           py311haa95532_2  \n",
      "pydocstyle                6.3.0           py311haa95532_0  \n",
      "pyerfa                    2.0.0           py311h2bbff1b_0  \n",
      "pyflakes                  3.0.1           py311haa95532_0  \n",
      "pygments                  2.15.1          py311haa95532_1  \n",
      "pyjwt                     2.4.0           py311haa95532_0  \n",
      "pylint                    2.16.2          py311haa95532_0  \n",
      "pylint-venv               2.3.0           py311haa95532_0  \n",
      "pyls-spyder               0.4.0              pyhd3eb1b0_0  \n",
      "pynacl                    1.5.0           py311h8cc25b3_0  \n",
      "pyodbc                    4.0.34          py311hd77b12b_0  \n",
      "pyopenssl                 23.2.0          py311haa95532_0  \n",
      "pyparsing                 3.0.9           py311haa95532_0  \n",
      "pyqt                      5.15.7          py311hd77b12b_0  \n",
      "pyqt5-sip                 12.11.0         py311hd77b12b_0  \n",
      "pyqtwebengine             5.15.7          py311hd77b12b_0  \n",
      "pyrsistent                0.18.0          py311h2bbff1b_0  \n",
      "pysocks                   1.7.1           py311haa95532_0  \n",
      "pytables                  3.8.0           py311h4671533_3  \n",
      "pytest                    7.4.0           py311haa95532_0  \n",
      "python                    3.11.5               he1021f5_0  \n",
      "python-dateutil           2.8.2              pyhd3eb1b0_0  \n",
      "python-dotenv             0.21.0          py311haa95532_0  \n",
      "python-fastjsonschema     2.16.2          py311haa95532_0  \n",
      "python-json-logger        2.0.7           py311haa95532_0  \n",
      "python-kaleido            0.2.1           py311haa95532_0  \n",
      "python-libarchive-c       2.9                pyhd3eb1b0_1  \n",
      "python-lmdb               1.4.1           py311hd77b12b_0  \n",
      "python-lsp-black          1.2.1           py311haa95532_0  \n",
      "python-lsp-jsonrpc        1.0.0              pyhd3eb1b0_0  \n",
      "python-lsp-server         1.7.2           py311haa95532_0  \n",
      "python-slugify            5.0.2              pyhd3eb1b0_0  \n",
      "python-snappy             0.6.1           py311hd77b12b_0  \n",
      "python-tzdata             2023.3             pyhd3eb1b0_0  \n",
      "python-xxhash             2.0.2           py311h2bbff1b_1  \n",
      "pytoolconfig              1.2.5           py311haa95532_1  \n",
      "pytz                      2023.3.post1    py311haa95532_0  \n",
      "pyviz_comms               2.3.0           py311haa95532_0  \n",
      "pywavelets                1.4.1           py311h2bbff1b_0  \n",
      "pywin32                   305             py311h2bbff1b_0  \n",
      "pywin32-ctypes            0.2.0           py311haa95532_1000  \n",
      "pywinpty                  2.0.10          py311h5da7b33_0  \n",
      "pyyaml                    6.0             py311h2bbff1b_1  \n",
      "pyzmq                     23.2.0          py311hd77b12b_0  \n",
      "qdarkstyle                3.0.2              pyhd3eb1b0_0  \n",
      "qstylizer                 0.2.2           py311haa95532_0  \n",
      "qt-main                   5.15.2               h879a1e9_9  \n",
      "qt-webengine              5.15.9               h5bd16bc_7  \n",
      "qtawesome                 1.2.2           py311haa95532_0  \n",
      "qtconsole                 5.4.2           py311haa95532_0  \n",
      "qtpy                      2.2.0           py311haa95532_0  \n",
      "qtwebkit                  5.212                h2bbfb41_5  \n",
      "queuelib                  1.5.0           py311haa95532_0  \n",
      "re2                       2022.04.01           hd77b12b_0  \n",
      "regex                     2022.7.9        py311h2bbff1b_0  \n",
      "reproc                    14.2.4               hd77b12b_1  \n",
      "reproc-cpp                14.2.4               hd77b12b_1  \n",
      "requests                  2.31.0          py311haa95532_0  \n",
      "requests-file             1.5.1              pyhd3eb1b0_0  \n",
      "requests-toolbelt         1.0.0           py311haa95532_0  \n",
      "responses                 0.13.3             pyhd3eb1b0_0  \n",
      "rfc3339-validator         0.1.4           py311haa95532_0  \n",
      "rfc3986-validator         0.1.1           py311haa95532_0  \n",
      "rope                      1.7.0           py311haa95532_0  \n",
      "rtree                     1.0.1           py311h2eaa2aa_0  \n",
      "ruamel.yaml               0.17.21         py311h2bbff1b_0  \n",
      "ruamel_yaml               0.17.21         py311h2bbff1b_0  \n",
      "s3fs                      2023.4.0        py311haa95532_0  \n",
      "safetensors               0.3.2           py311h062c2fa_0  \n",
      "scikit-image              0.20.0          py311h3513d60_0  \n",
      "scikit-learn              1.3.0           py311hf62ec03_0  \n",
      "scikit-learn-intelex      2023.1.1        py311haa95532_0  \n",
      "scipy                     1.11.1          py311hc1ccb85_0  \n",
      "scrapy                    2.8.0           py311haa95532_0  \n",
      "seaborn                   0.12.2          py311haa95532_0  \n",
      "send2trash                1.8.0              pyhd3eb1b0_1  \n",
      "service_identity          18.1.0             pyhd3eb1b0_1  \n",
      "setuptools                68.0.0          py311haa95532_0  \n",
      "sip                       6.6.2           py311hd77b12b_0  \n",
      "six                       1.16.0             pyhd3eb1b0_1  \n",
      "smart_open                5.2.1           py311haa95532_0  \n",
      "snappy                    1.1.9                h6c2663c_0  \n",
      "sniffio                   1.2.0           py311haa95532_1  \n",
      "snowballstemmer           2.2.0              pyhd3eb1b0_0  \n",
      "somepackage               1.2.3                    pypi_0    pypi\n",
      "sortedcontainers          2.4.0              pyhd3eb1b0_0  \n",
      "soupsieve                 2.4             py311haa95532_0  \n",
      "sphinx                    5.0.2           py311haa95532_0  \n",
      "sphinxcontrib-applehelp   1.0.2              pyhd3eb1b0_0  \n",
      "sphinxcontrib-devhelp     1.0.2              pyhd3eb1b0_0  \n",
      "sphinxcontrib-htmlhelp    2.0.0              pyhd3eb1b0_0  \n",
      "sphinxcontrib-jsmath      1.0.1              pyhd3eb1b0_0  \n",
      "sphinxcontrib-qthelp      1.0.3              pyhd3eb1b0_0  \n",
      "sphinxcontrib-serializinghtml 1.1.5              pyhd3eb1b0_0  \n",
      "spyder                    5.4.3           py311haa95532_1  \n",
      "spyder-kernels            2.4.4           py311haa95532_0  \n",
      "sqlalchemy                1.4.39          py311h2bbff1b_0  \n",
      "sqlite                    3.41.2               h2bbff1b_0  \n",
      "stack_data                0.2.0              pyhd3eb1b0_0  \n",
      "statsmodels               0.14.0          py311hd7041d2_0  \n",
      "sympy                     1.11.1          py311haa95532_0  \n",
      "tabulate                  0.8.10          py311haa95532_0  \n",
      "tbb                       2021.8.0             h59b6b97_0  \n",
      "tbb4py                    2021.8.0        py311h59b6b97_0  \n",
      "tblib                     1.7.0              pyhd3eb1b0_0  \n",
      "tenacity                  8.2.2           py311haa95532_0  \n",
      "terminado                 0.17.1          py311haa95532_0  \n",
      "text-unidecode            1.3                pyhd3eb1b0_0  \n",
      "textdistance              4.2.1              pyhd3eb1b0_0  \n",
      "threadpoolctl             2.2.0              pyh0d69192_0  \n",
      "three-merge               0.1.1              pyhd3eb1b0_0  \n",
      "tifffile                  2023.4.12       py311haa95532_0  \n",
      "tinycss2                  1.2.1           py311haa95532_0  \n",
      "tk                        8.6.12               h2bbff1b_0  \n",
      "tldextract                3.2.0              pyhd3eb1b0_0  \n",
      "tokenizers                0.13.2          py311h49fca51_1  \n",
      "toml                      0.10.2             pyhd3eb1b0_0  \n",
      "tomlkit                   0.11.1          py311haa95532_0  \n",
      "toolz                     0.12.0          py311haa95532_0  \n",
      "tornado                   6.3.2           py311h2bbff1b_0  \n",
      "tqdm                      4.65.0          py311h746a85d_0  \n",
      "traitlets                 5.7.1           py311haa95532_0  \n",
      "transformers              4.32.1          py311haa95532_0  \n",
      "twisted                   22.10.0         py311h2bbff1b_0  \n",
      "twisted-iocpsupport       1.0.2           py311h2bbff1b_0  \n",
      "typing-extensions         4.7.1           py311haa95532_0  \n",
      "typing_extensions         4.7.1           py311haa95532_0  \n",
      "tzdata                    2023c                h04d1e81_0  \n",
      "uc-micro-py               1.0.1           py311haa95532_0  \n",
      "ujson                     5.4.0           py311hd77b12b_0  \n",
      "unidecode                 1.2.0              pyhd3eb1b0_0  \n",
      "urllib3                   1.26.16         py311haa95532_0  \n",
      "utf8proc                  2.6.1                h2bbff1b_0  \n",
      "vc                        14.2                 h21ff451_1  \n",
      "vs2015_runtime            14.27.29016          h5e58377_2  \n",
      "w3lib                     1.21.0             pyhd3eb1b0_0  \n",
      "watchdog                  2.1.6           py311haa95532_0  \n",
      "wcwidth                   0.2.5              pyhd3eb1b0_0  \n",
      "webencodings              0.5.1           py311haa95532_1  \n",
      "websocket-client          0.58.0          py311haa95532_4  \n",
      "werkzeug                  2.2.3           py311haa95532_0  \n",
      "whatthepatch              1.0.2           py311haa95532_0  \n",
      "wheel                     0.38.4          py311haa95532_0  \n",
      "widgetsnbextension        4.0.5           py311haa95532_0  \n",
      "win_inet_pton             1.1.0           py311haa95532_0  \n",
      "winpty                    0.4.3                         4  \n",
      "wrapt                     1.14.1          py311h2bbff1b_0  \n",
      "xarray                    2023.6.0        py311haa95532_0  \n",
      "xlwings                   0.29.1          py311haa95532_0  \n",
      "xxhash                    0.8.0                h2bbff1b_3  \n",
      "xyzservices               2022.9.0        py311haa95532_1  \n",
      "xz                        5.4.2                h8cc25b3_0  \n",
      "y-py                      0.5.9           py311hb6bf4ef_0  \n",
      "yaml                      0.2.5                he774522_0  \n",
      "yaml-cpp                  0.7.0                hd77b12b_1  \n",
      "yapf                      0.31.0             pyhd3eb1b0_0  \n",
      "yarl                      1.8.1           py311h2bbff1b_0  \n",
      "ypy-websocket             0.8.2           py311haa95532_0  \n",
      "zeromq                    4.3.4                hd77b12b_0  \n",
      "zfp                       1.0.0                hd77b12b_0  \n",
      "zict                      2.2.0           py311haa95532_0  \n",
      "zipp                      3.11.0          py311haa95532_0  \n",
      "zlib                      1.2.13               h8cc25b3_0  \n",
      "zlib-ng                   2.0.7                h2bbff1b_0  \n",
      "zope                      1.0             py311haa95532_1  \n",
      "zope.interface            5.4.0           py311h2bbff1b_0  \n",
      "zstandard                 0.19.0          py311h2bbff1b_0  \n",
      "zstd                      1.5.5                hd43e919_0  \n"
     ]
    }
   ],
   "source": [
    "conda list"
   ]
  },
  {
   "cell_type": "code",
   "execution_count": 22,
   "id": "fd947361",
   "metadata": {},
   "outputs": [
    {
     "name": "stdout",
     "output_type": "stream",
     "text": [
      "Collecting Faker\n",
      "  Obtaining dependency information for Faker from https://files.pythonhosted.org/packages/cc/9a/74db0cf3115df2f71edcaf8d86ed556195ac31575212c20425820f81bfd0/Faker-20.1.0-py3-none-any.whl.metadata\n",
      "  Downloading Faker-20.1.0-py3-none-any.whl.metadata (15 kB)\n",
      "Requirement already satisfied: python-dateutil>=2.4 in c:\\users\\www77\\anaconda3\\lib\\site-packages (from Faker) (2.8.2)\n",
      "Requirement already satisfied: six>=1.5 in c:\\users\\www77\\anaconda3\\lib\\site-packages (from python-dateutil>=2.4->Faker) (1.16.0)\n",
      "Downloading Faker-20.1.0-py3-none-any.whl (1.7 MB)\n",
      "   ---------------------------------------- 0.0/1.7 MB ? eta -:--:--\n",
      "   ---------------------------------------- 0.0/1.7 MB ? eta -:--:--\n",
      "   ---- ----------------------------------- 0.2/1.7 MB 3.0 MB/s eta 0:00:01\n",
      "   -------------- ------------------------- 0.6/1.7 MB 5.5 MB/s eta 0:00:01\n",
      "   ------------------------- -------------- 1.1/1.7 MB 7.0 MB/s eta 0:00:01\n",
      "   ------------------------------------ --- 1.6/1.7 MB 7.8 MB/s eta 0:00:01\n",
      "   ---------------------------------------- 1.7/1.7 MB 7.9 MB/s eta 0:00:00\n",
      "Installing collected packages: Faker\n",
      "Successfully installed Faker-20.1.0\n",
      "Note: you may need to restart the kernel to use updated packages.\n"
     ]
    }
   ],
   "source": [
    "pip install Faker"
   ]
  },
  {
   "cell_type": "code",
   "execution_count": 23,
   "id": "b4357eb9",
   "metadata": {},
   "outputs": [
    {
     "ename": "SyntaxError",
     "evalue": "unexpected character after line continuation character (2070873861.py, line 1)",
     "output_type": "error",
     "traceback": [
      "\u001b[1;36m  Cell \u001b[1;32mIn[23], line 1\u001b[1;36m\u001b[0m\n\u001b[1;33m    C:\\> pip install Faker\u001b[0m\n\u001b[1;37m       ^\u001b[0m\n\u001b[1;31mSyntaxError\u001b[0m\u001b[1;31m:\u001b[0m unexpected character after line continuation character\n"
     ]
    }
   ],
   "source": [
    "C:\\> pip install Faker"
   ]
  },
  {
   "cell_type": "code",
   "execution_count": 24,
   "id": "09c0af5a",
   "metadata": {},
   "outputs": [
    {
     "data": {
      "text/plain": [
       "'Denise Randolph'"
      ]
     },
     "execution_count": 24,
     "metadata": {},
     "output_type": "execute_result"
    }
   ],
   "source": [
    "from faker import Faker\n",
    "fake = Faker()\n",
    "fake.name()"
   ]
  },
  {
   "cell_type": "code",
   "execution_count": 115,
   "id": "b7b412d8",
   "metadata": {},
   "outputs": [
    {
     "data": {
      "text/plain": [
       "'박미경'"
      ]
     },
     "execution_count": 115,
     "metadata": {},
     "output_type": "execute_result"
    }
   ],
   "source": [
    "fake = Faker('ko-KR')\n",
    "fake.name()"
   ]
  },
  {
   "cell_type": "code",
   "execution_count": 116,
   "id": "4662fdc9",
   "metadata": {},
   "outputs": [
    {
     "data": {
      "text/plain": [
       "'대전광역시 서대문구 학동길'"
      ]
     },
     "execution_count": 116,
     "metadata": {},
     "output_type": "execute_result"
    }
   ],
   "source": [
    "fake.address()"
   ]
  },
  {
   "cell_type": "code",
   "execution_count": 119,
   "id": "a1b45129",
   "metadata": {},
   "outputs": [
    {
     "data": {
      "text/plain": [
       "[('류지원', '서울특별시 광진구 오금83로 (우진오성면)'),\n",
       " ('김서현', '경상남도 김포시 개포거리'),\n",
       " ('한정수', '대구광역시 마포구 잠실가'),\n",
       " ('이주원', '충청남도 청양군 서초중앙31로 (정호오김읍)'),\n",
       " ('송은서', '전라남도 정선군 백제고분길'),\n",
       " ('김현숙', '충청남도 수원시 장안구 테헤란로'),\n",
       " ('김은지', '제주특별자치도 아산시 역삼거리'),\n",
       " ('박진우', '전라남도 서천군 양재천76가 (현준김김리)'),\n",
       " ('이민재', '경기도 안양시 만안구 선릉39로'),\n",
       " ('김정자', '강원도 홍성군 강남대거리 (현숙이읍)'),\n",
       " ('이서연', '대전광역시 종로구 논현길 (현정이읍)'),\n",
       " ('윤성훈', '대전광역시 북구 가락47길'),\n",
       " ('박윤서', '울산광역시 성북구 석촌호수189가'),\n",
       " ('이지은', '경상북도 고양시 일산동구 선릉가'),\n",
       " ('김수민', '충청남도 당진시 테헤란가'),\n",
       " ('김지민', '광주광역시 영등포구 학동14거리 (예준박면)'),\n",
       " ('김상철', '경상북도 용인시 가락919가'),\n",
       " ('박영자', '울산광역시 중랑구 선릉406길 (영길김이리)'),\n",
       " ('최예진', '서울특별시 서대문구 가락613거리'),\n",
       " ('양예준', '대전광역시 북구 가락743거리 (진우김동)'),\n",
       " ('황상현', '울산광역시 구로구 압구정57길 (현지양이동)'),\n",
       " ('오예원', '강원도 천안시 동남구 학동가'),\n",
       " ('김민준', '충청남도 고양시 일산동구 잠실12길 (종수김나마을)'),\n",
       " ('안영호', '제주특별자치도 화성시 서초중앙1로'),\n",
       " ('곽지연', '경기도 성남시 학동길'),\n",
       " ('이성민', '광주광역시 마포구 삼성5로'),\n",
       " ('최숙자', '대전광역시 종로구 논현928가 (경수박면)'),\n",
       " ('김영환', '제주특별자치도 논산시 학동로 (민석진강리)'),\n",
       " ('이성민', '대전광역시 용산구 양재천로 (미정김마을)'),\n",
       " ('김상호', '전라남도 김포시 가락299거리 (시우김손면)')]"
      ]
     },
     "execution_count": 119,
     "metadata": {},
     "output_type": "execute_result"
    }
   ],
   "source": [
    "test_data = [(fake.name(), fake.address()) for i in range(30)]\n",
    "test_data"
   ]
  },
  {
   "cell_type": "code",
   "execution_count": null,
   "id": "a2754266",
   "metadata": {},
   "outputs": [],
   "source": []
  },
  {
   "cell_type": "code",
   "execution_count": null,
   "id": "2c87b2a6",
   "metadata": {},
   "outputs": [],
   "source": []
  },
  {
   "cell_type": "code",
   "execution_count": null,
   "id": "6dc9d3a3",
   "metadata": {},
   "outputs": [],
   "source": []
  },
  {
   "cell_type": "code",
   "execution_count": null,
   "id": "9082110c",
   "metadata": {},
   "outputs": [],
   "source": []
  },
  {
   "cell_type": "code",
   "execution_count": null,
   "id": "e384d53e",
   "metadata": {},
   "outputs": [],
   "source": []
  },
  {
   "cell_type": "code",
   "execution_count": null,
   "id": "da9d5382",
   "metadata": {},
   "outputs": [],
   "source": []
  },
  {
   "cell_type": "code",
   "execution_count": null,
   "id": "9fc2b841",
   "metadata": {},
   "outputs": [],
   "source": []
  },
  {
   "cell_type": "code",
   "execution_count": null,
   "id": "ea5974f5",
   "metadata": {},
   "outputs": [],
   "source": []
  },
  {
   "cell_type": "code",
   "execution_count": null,
   "id": "aabe40a6",
   "metadata": {},
   "outputs": [],
   "source": []
  },
  {
   "cell_type": "code",
   "execution_count": null,
   "id": "99999cc0",
   "metadata": {},
   "outputs": [],
   "source": []
  },
  {
   "cell_type": "code",
   "execution_count": null,
   "id": "8f4c3a15",
   "metadata": {},
   "outputs": [],
   "source": []
  },
  {
   "cell_type": "code",
   "execution_count": null,
   "id": "b0e9d861",
   "metadata": {},
   "outputs": [],
   "source": []
  },
  {
   "cell_type": "code",
   "execution_count": null,
   "id": "5b56bfe4",
   "metadata": {},
   "outputs": [],
   "source": []
  },
  {
   "cell_type": "code",
   "execution_count": null,
   "id": "42124daa",
   "metadata": {},
   "outputs": [],
   "source": []
  },
  {
   "cell_type": "code",
   "execution_count": null,
   "id": "e5281d38",
   "metadata": {},
   "outputs": [],
   "source": []
  }
 ],
 "metadata": {
  "kernelspec": {
   "display_name": "Python 3 (ipykernel)",
   "language": "python",
   "name": "python3"
  },
  "language_info": {
   "codemirror_mode": {
    "name": "ipython",
    "version": 3
   },
   "file_extension": ".py",
   "mimetype": "text/x-python",
   "name": "python",
   "nbconvert_exporter": "python",
   "pygments_lexer": "ipython3",
   "version": "3.11.5"
  },
  "toc": {
   "base_numbering": 1,
   "nav_menu": {},
   "number_sections": true,
   "sideBar": true,
   "skip_h1_title": false,
   "title_cell": "Table of Contents",
   "title_sidebar": "Contents",
   "toc_cell": false,
   "toc_position": {},
   "toc_section_display": true,
   "toc_window_display": false
  }
 },
 "nbformat": 4,
 "nbformat_minor": 5
}
